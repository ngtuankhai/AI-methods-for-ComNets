{
 "cells": [
  {
   "cell_type": "markdown",
   "id": "0e40ee0f-cb47-4b96-a27c-17314faf5fcb",
   "metadata": {},
   "source": [
    "<font size=50 color=darkblue>Graph Coloring using Big-M Transformation</font>"
   ]
  },
  {
   "cell_type": "markdown",
   "id": "73d66667-140b-497f-8f28-2cc1ad49a50a",
   "metadata": {},
   "source": [
    "# Problem modelling with DOcplex"
   ]
  },
  {
   "cell_type": "markdown",
   "id": "e5208997-f543-4466-b00d-1b94043c3733",
   "metadata": {},
   "source": [
    "## Import necessary modules\n",
    "\n",
    "- DOcplex will be used to solve the Graph-Coloring MILP\n",
    "- Import module `json` to read example data"
   ]
  },
  {
   "cell_type": "code",
   "execution_count": null,
   "id": "b6ab56f9-fedd-4dcd-bcdb-ff6aee9ac830",
   "metadata": {},
   "outputs": [],
   "source": [
    "from docplex.mp.model import Model\n",
    "import json"
   ]
  },
  {
   "cell_type": "markdown",
   "id": "de8645bb-37df-47c2-9313-c6f3e378641d",
   "metadata": {},
   "source": [
    "## Graph-Coloring ILP using Big-M Transformation <font size=3>(variables are colored blue)</font>\n",
    "**Minimize**\n",
    "### $$\\color{blue}x_\\textbf{MAX}$$\n",
    "**Subject to**\n",
    "### \\begin{align*}\n",
    "{\\color{blue}x_\\textbf{MAX}} - {\\color{blue}x_{(v)}}&\\ge 0,\\qquad&\\forall v\\in \\mathcal{V}\\\\\n",
    "({\\color{blue}x_{(u)}} - {\\color{blue}x_{(v)}} + M {\\color{blue}t_{(u,v)}}&\\ge 1) \\wedge ({\\color{blue}x_{(v)}} - {\\color{blue}x_{(u)}} - M {\\color{blue}t_{(u,v)}}\\ge 1 - M),\\qquad&\\forall (u,v)\\in \\mathcal{E}\\\\\n",
    "{\\color{blue}x_{(v)}}&\\in \\{0,...,3\\},\\qquad&\\forall v\\in \\mathcal{V}\\\\\n",
    "{\\color{blue}t_{(u,v)}}&\\in \\{0,1\\},\\qquad&\\forall (u,v)\\in \\mathcal{E}\\\\\n",
    "{\\color{blue}x_\\textbf{MAX}}&\\in\\mathbb{R}\n",
    "\\end{align*}"
   ]
  },
  {
   "cell_type": "markdown",
   "id": "0b892ae2-c685-4138-82da-8e167e9476f5",
   "metadata": {},
   "source": [
    "## Import the input from example files\n",
    "### 36 examples are available: `coloring_ex_1`, `coloring_ex_2`, $\\dots$ , `coloring_ex_36`\n",
    "**<font color='red'>Note: For CPLEX Community Edition, only the first 8 examples</font><font> `coloring_ex_1`, $\\dots$ , `coloring_ex_8`</font><font color='red'> are applicable.</font>**"
   ]
  },
  {
   "cell_type": "code",
   "execution_count": null,
   "id": "96cdce04-a707-485d-b9d8-7f1599dc82ff",
   "metadata": {},
   "outputs": [],
   "source": [
    "with open('coloring_data/coloring_ex_7', 'r') as fp:\n",
    "    colr_data = json.load(fp)\n",
    "V = list(range(colr_data['n']))\n",
    "inc_E = colr_data['inc_E']\n",
    "E = [(int(u),v) for u in inc_E for v in inc_E[u]]\n",
    "print(f'In this example:\\n\\t- Number of nodes: {len(V)}\\n\\t- Number of links: {len(E)}')"
   ]
  },
  {
   "cell_type": "markdown",
   "id": "101d5ce0-7f96-408e-a2ad-94279b3a13d3",
   "metadata": {},
   "source": [
    "### The example above was generated randomly. It might not represent a planar graph as the special feature of the Map-Coloring problem. The number of colors therefore might exceed 4. For this reason, in the following, the domain for the color variable is$${\\color{blue}x_{(v)}}\\in\\{0,\\cdots,|\\mathcal{V}|-1\\},\\quad\\forall v\\in\\mathcal{V}$$"
   ]
  },
  {
   "cell_type": "markdown",
   "id": "fdde639c-4cfb-4343-9580-79df4a9c8853",
   "metadata": {},
   "source": [
    "## Create the ILP model for Graph-Coloring problem using DOcplex"
   ]
  },
  {
   "cell_type": "code",
   "execution_count": null,
   "id": "94070eaa-28bb-410b-b580-8215c919b3aa",
   "metadata": {},
   "outputs": [],
   "source": [
    "colr_ILP = Model(name='Graph Coloring')"
   ]
  },
  {
   "cell_type": "markdown",
   "id": "e1794052-b384-4f3c-b44a-9252f7534820",
   "metadata": {},
   "source": [
    "## Define decision variables\n",
    "## \\begin{align*}\n",
    "{\\color{blue}x_{(v)}}&\\in \\{0,...,|\\mathcal{V}|-1\\},\\qquad&\\forall v\\in \\mathcal{V}\\\\\n",
    "{\\color{blue}t_{(u,v)}}&\\in \\{0,1\\},\\qquad&\\forall (u,v)\\in \\mathcal{E}\\\\\n",
    "{\\color{blue}x_\\textbf{MAX}}&\\in \\mathbb{R}\n",
    "\\end{align*}"
   ]
  },
  {
   "cell_type": "code",
   "execution_count": null,
   "id": "84a1713c-533a-4a25-a579-738ba446902f",
   "metadata": {},
   "outputs": [],
   "source": [
    "colr_ILP.clear() # This line is optional. Its purpose is to avoid variable duplicates\n",
    "\n",
    "# Note: since the number of variables might be large, rather than using python\n",
    "# dictionary comprehension, it saves significant time to tell DOcplex to generate\n",
    "# the variable dictionary on its own\n",
    "x = colr_ILP.integer_var_dict(keys=V, ub=len(V)-1, name=lambda v: f'x({v})')\n",
    "t = colr_ILP.binary_var_dict(keys=E, name=lambda e: f't({e[0]},{e[1]})')\n",
    "\n",
    "xMAX = colr_ILP.continuous_var(name='xMAX')"
   ]
  },
  {
   "cell_type": "markdown",
   "id": "36d2f4e3-4ea4-4ef8-a1e6-c54c6cef414b",
   "metadata": {},
   "source": [
    "## Define big-M"
   ]
  },
  {
   "cell_type": "code",
   "execution_count": null,
   "id": "79518ae4-89b8-4e0f-b8dd-31b8e6d42610",
   "metadata": {},
   "outputs": [],
   "source": [
    "M = 1e3 # 1 thousand"
   ]
  },
  {
   "cell_type": "markdown",
   "id": "8ad795d8-e637-4cc4-b7c2-eecb84b69795",
   "metadata": {},
   "source": [
    "## Define $\\color{blue}x_\\textbf{MAX}$ constraints, subscriptable by node indices $${\\color{blue}x_\\textbf{MAX}} - {\\color{blue}x_{(v)}}\\ge 0,\\qquad\\forall v\\in \\mathcal{V}$$"
   ]
  },
  {
   "cell_type": "code",
   "execution_count": null,
   "id": "82ed7cd7-1ecf-4bf8-b24b-cc96b07ff1aa",
   "metadata": {},
   "outputs": [],
   "source": [
    "# Note: since the number of constraints might be large, it saves significant time to\n",
    "# first create the constraints outside the problem, then later add them in a batch\n",
    "cts = (xMAX - x[v] >= 0 for v in V)\n",
    "ctnames = (f'xMAX({v})' for v in V)\n",
    "\n",
    "# The ending underscore `_` in the method `add_constraints_`\n",
    "# specifically tells DOcplex not to return anything\n",
    "colr_ILP.add_constraints_(cts=cts, names=ctnames)"
   ]
  },
  {
   "cell_type": "markdown",
   "id": "b0fd4e69-7904-414a-8ee9-71a597c48a0d",
   "metadata": {},
   "source": [
    "## Define distinct color constraints, subscriptable by link indices \\begin{align*}\n",
    "({\\color{blue}x_{(u)}} - {\\color{blue}x_{(v)}} + M {\\color{blue}t_{(u,v)}}&\\ge 1) \\wedge ({\\color{blue}x_{(v)}} - {\\color{blue}x_{(u)}} - M {\\color{blue}t_{(u,v)}}\\ge 1 - M),\\quad&\\forall (u,v)\\in \\mathcal{E}\n",
    "\\end{align*}"
   ]
  },
  {
   "cell_type": "code",
   "execution_count": null,
   "id": "857f8e51-684a-49fe-8246-684ef6171769",
   "metadata": {},
   "outputs": [],
   "source": [
    "# Note: since the number of constraints might be large, it saves significant time to\n",
    "# first create the constraints outside the problem, then later add them in a batch\n",
    "cts_a = (x[u] - x[v] + M*t[u,v] >= 1 for u,v in E)\n",
    "cts_b = (x[v] - x[u] - M*t[u,v] >= 1 - M for u,v in E)\n",
    "\n",
    "ctnames_a = (f'dis_colr_a({u},{v})' for u,v in E)\n",
    "ctnames_b = (f'dis_colr_b({u},{v})' for u,v in E)\n",
    "\n",
    "colr_ILP.add_constraints_(cts=cts_a, names=ctnames_a)\n",
    "colr_ILP.add_constraints_(cts=cts_b, names=ctnames_b)"
   ]
  },
  {
   "cell_type": "markdown",
   "id": "0bb08030-b8d4-40ba-9bd3-83550c5725c8",
   "metadata": {},
   "source": [
    "## Define objective function $$\\textbf{minimize}\\quad \\color{blue}x_\\textbf{MAX}$$"
   ]
  },
  {
   "cell_type": "code",
   "execution_count": null,
   "id": "aa2e5b0c-fc03-44dc-ba80-13732bda12ab",
   "metadata": {},
   "outputs": [],
   "source": [
    "colr_ILP.minimize(xMAX)"
   ]
  },
  {
   "cell_type": "markdown",
   "id": "3c58a03d-d818-4065-aa5c-95606d1e0b25",
   "metadata": {},
   "source": [
    "## Summarize the model"
   ]
  },
  {
   "cell_type": "code",
   "execution_count": null,
   "id": "19ff5bac-3465-4e97-9a28-c1b2820bda78",
   "metadata": {},
   "outputs": [],
   "source": [
    "colr_ILP.print_information()"
   ]
  },
  {
   "cell_type": "markdown",
   "id": "9c2276e6-8711-463b-887a-eb6e733bb413",
   "metadata": {},
   "source": [
    "## Set termination criteria (stop if either criterion is satisfied)\n",
    "- Solution time is not longer than 5 minutes.\n",
    "- Relative optimality gap (i.e., the gap between the tightest LP relaxed bound and the best integral solution found so far) is at most 2%."
   ]
  },
  {
   "cell_type": "code",
   "execution_count": null,
   "id": "1b05c9f5-e09b-4dd8-a4bf-97a403cdf5aa",
   "metadata": {},
   "outputs": [],
   "source": [
    "colr_ILP.set_time_limit(5*60) # 5 minutes\n",
    "_ = colr_ILP.parameters.mip.tolerances.mipgap.set(0.02)"
   ]
  },
  {
   "cell_type": "markdown",
   "id": "be6f2dd2-b787-429a-b303-5ead1c36b7f1",
   "metadata": {},
   "source": [
    "## Solve the ILP"
   ]
  },
  {
   "cell_type": "code",
   "execution_count": null,
   "id": "c3a787e1-6583-4d07-9144-dddbd4728410",
   "metadata": {},
   "outputs": [],
   "source": [
    "colr_sol = colr_ILP.solve(log_output=True)"
   ]
  },
  {
   "cell_type": "markdown",
   "id": "ead995fa-b350-4e3f-a390-5214976cd808",
   "metadata": {},
   "source": [
    "## Display the result"
   ]
  },
  {
   "cell_type": "code",
   "execution_count": null,
   "id": "78665555-bdf6-4766-ad0a-5256c189bc92",
   "metadata": {},
   "outputs": [],
   "source": [
    "if colr_sol:\n",
    "    colr_sol.display()"
   ]
  }
 ],
 "metadata": {
  "kernelspec": {
   "display_name": "Python 3 (ipykernel)",
   "language": "python",
   "name": "python3"
  },
  "language_info": {
   "codemirror_mode": {
    "name": "ipython",
    "version": 3
   },
   "file_extension": ".py",
   "mimetype": "text/x-python",
   "name": "python",
   "nbconvert_exporter": "python",
   "pygments_lexer": "ipython3",
   "version": "3.11.8"
  }
 },
 "nbformat": 4,
 "nbformat_minor": 5
}
