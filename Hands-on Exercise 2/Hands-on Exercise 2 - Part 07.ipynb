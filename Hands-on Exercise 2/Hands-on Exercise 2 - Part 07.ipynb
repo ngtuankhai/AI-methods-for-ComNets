{
 "cells": [
  {
   "cell_type": "markdown",
   "id": "3f031225-874e-4ac0-b170-3c0c82543e25",
   "metadata": {},
   "source": [
    "<font size=50 color=darkblue>Min Cost Flow LP</font>"
   ]
  },
  {
   "cell_type": "markdown",
   "id": "8f3a2c52-4d36-4abf-a806-25390e87d048",
   "metadata": {},
   "source": [
    "# Problem modelling with DOcplex"
   ]
  },
  {
   "cell_type": "markdown",
   "id": "797753f5-5d90-4798-80ea-23a68de550a9",
   "metadata": {},
   "source": [
    "## Import necessary modules\n",
    "\n",
    "- DOcplex will be used to model and solve the Min-Cost-Flow LP\n",
    "- Import module `itertools` to group links based on their tails/heads"
   ]
  },
  {
   "cell_type": "code",
   "execution_count": null,
   "id": "33a05e81-e4f1-4c4f-9d2d-25db42cfa0c0",
   "metadata": {},
   "outputs": [],
   "source": [
    "from docplex.mp.model import Model\n",
    "import itertools"
   ]
  },
  {
   "cell_type": "markdown",
   "id": "c01e77d1-b6eb-4b59-9a57-4b839da31efd",
   "metadata": {},
   "source": [
    "## Min-Cost-Flow LP <font size=3>(variables are colored blue)</font>\n",
    "**Minimize**\n",
    "### $$\\sum_{(u,v)\\in \\mathcal{E}}c_{(u,v)}\\cdot \\color{blue}x_{(u,v)}$$\n",
    "**Subject to**\n",
    "### \\begin{align*}\n",
    "\\sum_{(u,v)\\in{\\color{red}\\delta}^{\\color{red}-}_{(v)}}{\\color{blue}x_{(u,v)}} - \\sum_{(v,u)\\in{\\color{green}\\delta}^{\\color{green}+}_{(v)}}{\\color{blue}x_{(v,u)}} = 0,\\qquad&\\forall v\\in \\mathcal{V}\\backslash\\left({\\color{green}\\mathcal{S}}\\bigcup {\\color{red}\\mathcal{D}}\\right)\\\\\n",
    "\\sum_{(u,v)\\in{\\color{red}\\delta}^{\\color{red}-}_{(v)}}{\\color{blue}x_{(u,v)}} - \\sum_{(v,u)\\in{\\color{green}\\delta}^{\\color{green}+}_{(v)}}{\\color{blue}x_{(v,u)}} \\ge d_{(v)},\\qquad&\\forall v\\in {\\color{red}\\mathcal{D}}\\\\\n",
    "\\sum_{(v,u)\\in{\\color{green}\\delta}^{\\color{green}+}_{(v)}}{\\color{blue}x_{(v,u)}} - \\sum_{(u,v)\\in{\\color{red}\\delta}^{\\color{red}-}_{(v)}}{\\color{blue}x_{(u,v)}} \\le s_{(v)},\\qquad&\\forall v\\in {\\color{green}\\mathcal{S}}\\\\\n",
    "0\\le {\\color{blue}x_{(u,v)}}\\le \\mu_{(u,v)},\\qquad&\\forall(u,v)\\in \\mathcal{E}\n",
    "\\end{align*}"
   ]
  },
  {
   "cell_type": "markdown",
   "id": "ac1df4e4-8cb3-4d77-96e2-595507f94b38",
   "metadata": {},
   "source": [
    "## Display the network\n",
    "<img src='img/mcf.png' width=700></img>"
   ]
  },
  {
   "cell_type": "markdown",
   "id": "da6861c6-f038-458c-81c9-5ace89bd355b",
   "metadata": {},
   "source": [
    "## Define the model input\n",
    "### \\begin{align*}\n",
    "V =\\,& \\{0, 1, 2, 3, 4, 5, 6, 7, 8\\}&\\\\\n",
    "E =\\,& \\{(0,3), (0,4), (1,3), (1,4), (2,3), (2,4), (3,4), (3,5), (3,6), (4,7), (4,8)\\}&\\\\\n",
    "{\\color{green}S} =\\,& \\{0, 1, 2\\}&\\\\\n",
    "{\\color{red}D} =\\,& \\{5, 6, 7, 8\\}&\n",
    "\\end{align*}"
   ]
  },
  {
   "cell_type": "code",
   "execution_count": null,
   "id": "32df7236-a55f-4452-958f-0e4298a86c47",
   "metadata": {},
   "outputs": [],
   "source": [
    "V = [0, 1, 2, 3, 4, 5, 6, 7, 8]\n",
    "E = [(0,3), (0,4), (1,3), (1,4), (2,3), (2,4), (3,4), (3,5), (3,6), (4,7), (4,8)]\n",
    "S = [0, 1, 2]\n",
    "D = [5, 6, 7, 8]"
   ]
  },
  {
   "cell_type": "markdown",
   "id": "5a51d464-7491-4166-b73f-1121ff82826f",
   "metadata": {},
   "source": [
    "## Define in-links <code><font color='red'>delta_min</font></code> and out-links <code><font color='green'>delta_pls</font></code>, subscriptable by node indices\n",
    "### \\begin{align*}\n",
    "{\\color{red}\\delta}^{\\color{red}-}_{(v)} = \\{e\\in \\mathcal{E}\\,|&\\,\\text{head}(e)\\equiv v \\},&\\quad\\forall v\\in \\mathcal{V}\\\\\n",
    "{\\color{green}\\delta}^{\\color{green}+}_{(v)} = \\{e\\in \\mathcal{E}\\,|&\\,\\text{tail}(e)\\equiv v \\},&\\quad\\forall v\\in \\mathcal{V}\\\\\n",
    "\\end{align*}"
   ]
  },
  {
   "cell_type": "code",
   "execution_count": null,
   "id": "e47d36ec-abcc-4f30-869a-ace0db1e5ccf",
   "metadata": {},
   "outputs": [],
   "source": [
    "# Anonymous functions\n",
    "head = lambda e: e[1]\n",
    "tail = lambda e: e[0]\n",
    "delta_min = {v: set(delt_min) for v, delt_min in itertools.groupby(sorted(E, key=head), head)}\n",
    "delta_pls = {v: set(delt_pls) for v, delt_pls in itertools.groupby(sorted(E, key=tail), tail)}"
   ]
  },
  {
   "cell_type": "markdown",
   "id": "aaf44aa3-9358-43dc-8a2a-6aab359f2d16",
   "metadata": {},
   "source": [
    "## Define supply capacities $s_{(v)},\\,\\forall v\\in {\\color{green}\\mathcal{S}}$ and demands $d_{(v)},\\,\\forall v\\in {\\color{red}\\mathcal{D}}$, subscriptable by node indices"
   ]
  },
  {
   "cell_type": "code",
   "execution_count": null,
   "id": "6ff34c1f-f88a-4367-9e38-6f47ad471155",
   "metadata": {},
   "outputs": [],
   "source": [
    "# Supply capacities, subscriptable by node indices\n",
    "s = dict(zip(S, [100, 200, 300]))\n",
    "\n",
    "# Demands, subscriptable by node indices\n",
    "d = dict(zip(D, [150, 150, 150, 150]))"
   ]
  },
  {
   "cell_type": "markdown",
   "id": "164a372b-7172-4dde-8cb9-9ba2b301d647",
   "metadata": {},
   "source": [
    "## Define unit flow costs $c_{(e)},\\,\\forall e\\in \\mathcal{E}$ and link capacities $\\mu_{(e)},\\,\\forall e\\in \\mathcal{E}$, subscriptable by link indices"
   ]
  },
  {
   "cell_type": "code",
   "execution_count": null,
   "id": "6d5f0a28-ca3b-4196-8f3a-ff7f099be596",
   "metadata": {},
   "outputs": [],
   "source": [
    "# Unit flow costs, subscriptable by link indices\n",
    "c = dict(zip(E, [0.8, 2.0, 2.5, 1.0, 1.2, 2.0, 1.0, 1.0, 1.0, 1.0, 1.0]))\n",
    "\n",
    "# Capacities, subscriptable by link indices\n",
    "mu = dict(zip(E, [300, 300, 300, 300, 300, 300, 300, 300, 300, 300, 300]))"
   ]
  },
  {
   "cell_type": "markdown",
   "id": "24325b3a-c735-4398-80d7-1aebdd41194e",
   "metadata": {},
   "source": [
    "## Create the LP model for Min-Cost-Flow problem using DOcplex"
   ]
  },
  {
   "cell_type": "code",
   "execution_count": null,
   "id": "864bace4-ddfa-4c3a-ac06-1c520c84063e",
   "metadata": {},
   "outputs": [],
   "source": [
    "mcf_LP = Model(name='Min Cost Flow')"
   ]
  },
  {
   "cell_type": "markdown",
   "id": "4710a081-70fd-438c-b9bd-dcfbb6af30ea",
   "metadata": {},
   "source": [
    "## Define decision variables: $0\\le {\\color{blue}x_{(e)}}\\le\\mu_{(e)},\\quad\\forall e\\in \\mathcal{E}$"
   ]
  },
  {
   "cell_type": "code",
   "execution_count": null,
   "id": "95a188b3-44ff-4798-95a0-e0a208909d8c",
   "metadata": {},
   "outputs": [],
   "source": [
    "mcf_LP.clear() # This line is optional. Its purpose is to avoid variable duplicates\n",
    "x = {(u,v): mcf_LP.continuous_var(name=f'x({u},{v})', ub=mu[u,v]) for u,v in E}"
   ]
  },
  {
   "cell_type": "markdown",
   "id": "db8f9281-b843-47b1-8bf9-fdf2ffa427fb",
   "metadata": {},
   "source": [
    "## Define flow conservation constraints, subscriptable by node indices $$\\sum_{(u,v)\\in{\\color{red}\\delta}^{\\color{red}-}_{(v)}}{\\color{blue}x_{(u,v)}} - \\sum_{(v,u)\\in{\\color{green}\\delta}^{\\color{green}+}_{(v)}}{\\color{blue}x_{(v,u)}} = 0,\\quad\\forall v\\in \\mathcal{V}\\backslash\\left({\\color{green}\\mathcal{S}}\\cup {\\color{red}\\mathcal{D}}\\right)$$"
   ]
  },
  {
   "cell_type": "code",
   "execution_count": null,
   "id": "9f8329b5-1885-49ed-8307-7a8c4f4a1917",
   "metadata": {},
   "outputs": [],
   "source": [
    "flow_conserv_ct = {v: mcf_LP.add_constraint(ct=mcf_LP.sum(x[e] for e in delta_min[v]) - mcf_LP.sum(x[e] for e in delta_pls[v]) == 0,\n",
    "                                            ctname=f'flow_conservation({v})') for v in set(V) - set(S + D)}"
   ]
  },
  {
   "cell_type": "markdown",
   "id": "f5621e63-812a-4ce1-9149-fb0cf372726b",
   "metadata": {},
   "source": [
    "## Define demand satisfaction constraints, subscriptable by node indices $$\\sum_{(u,v)\\in{\\color{red}\\delta}^{\\color{red}-}_{(v)}}{\\color{blue}x_{(u,v)}} - \\sum_{(v,u)\\in{\\color{green}\\delta}^{\\color{green}+}_{(v)}}{\\color{blue}x_{(v,u)}} \\ge d_{(v)},\\quad\\forall v\\in {\\color{red}\\mathcal{D}}$$"
   ]
  },
  {
   "cell_type": "code",
   "execution_count": null,
   "id": "682c68b2-3077-4077-9205-3eb3879459c7",
   "metadata": {},
   "outputs": [],
   "source": [
    "demand_sat_ct = {v: mcf_LP.add_constraint(ct=mcf_LP.sum(x[e] for e in delta_min[v]) - mcf_LP.sum(x[e] for e in delta_pls.get(v, [])) >= d[v],\n",
    "                                          ctname=f'demand_satisfaction({v})') for v in D}"
   ]
  },
  {
   "cell_type": "markdown",
   "id": "33cf69ec-3751-4c36-b5d0-b8ed173cc842",
   "metadata": {},
   "source": [
    "## Define supply capacity constraints, subscriptable by node indices $$\\sum_{(v,u)\\in{\\color{green}\\delta}^{\\color{green}+}_{(v)}}{\\color{blue}x_{(v,u)}} - \\sum_{(u,v)\\in{\\color{red}\\delta}^{\\color{red}-}_{(v)}}{\\color{blue}x_{(u,v)}} \\le s_{(v)},\\quad\\forall v\\in {\\color{green}\\mathcal{S}}$$"
   ]
  },
  {
   "cell_type": "code",
   "execution_count": null,
   "id": "2d269075-5704-4cfe-b8a5-bc2a70662e60",
   "metadata": {},
   "outputs": [],
   "source": [
    "sup_cap_ct = {v: mcf_LP.add_constraint(ct=mcf_LP.sum(x[e] for e in delta_pls[v]) - mcf_LP.sum(x[e] for e in delta_min.get(v, [])) <= s[v],\n",
    "                                       ctname=f'capacity_supply({v})') for v in S}"
   ]
  },
  {
   "cell_type": "markdown",
   "id": "1d92a195-c571-4128-acf2-4dee30f5a9a5",
   "metadata": {},
   "source": [
    "## Define objective function $$\\textbf{minimize}\\qquad\\sum_{e\\in \\mathcal{E}}c_{(e)}\\cdot \\color{blue}x_{(e)}$$"
   ]
  },
  {
   "cell_type": "code",
   "execution_count": null,
   "id": "4606c3bb-3400-4c38-93f9-e25b37de3466",
   "metadata": {},
   "outputs": [],
   "source": [
    "mcf_LP.minimize(mcf_LP.sum(c[e]*x[e] for e in E))"
   ]
  },
  {
   "cell_type": "markdown",
   "id": "4a463454-a08b-4118-b1ca-b56fb8ca6e36",
   "metadata": {},
   "source": [
    "## Summarize the model"
   ]
  },
  {
   "cell_type": "code",
   "execution_count": null,
   "id": "c130f009-366f-47b3-ae1f-2f4bd53dd1e7",
   "metadata": {},
   "outputs": [],
   "source": [
    "mcf_LP.print_information()"
   ]
  },
  {
   "cell_type": "markdown",
   "id": "7dba4915-594a-4db8-819e-ce54354752e8",
   "metadata": {},
   "source": [
    "## Solve the LP and display the result"
   ]
  },
  {
   "cell_type": "code",
   "execution_count": null,
   "id": "e4e1111f-9767-46e8-bb4d-d0a1ab80d712",
   "metadata": {},
   "outputs": [],
   "source": [
    "mcf_sol = mcf_LP.solve()\n",
    "if mcf_sol:\n",
    "    mcf_sol.display()"
   ]
  },
  {
   "cell_type": "markdown",
   "id": "972c21c6-40f6-4f5b-b15b-5f5defd4042e",
   "metadata": {},
   "source": [
    "# Result Visualization"
   ]
  },
  {
   "cell_type": "markdown",
   "id": "83a035a5-1566-4e9e-af61-1684904fc5f7",
   "metadata": {},
   "source": [
    "## Import visualization modules\n",
    "- `igraph`, `matplotlib`"
   ]
  },
  {
   "cell_type": "code",
   "execution_count": null,
   "id": "e4ea1500-7eea-40c4-9e49-e5a3d0cf8d3f",
   "metadata": {},
   "outputs": [],
   "source": [
    "import igraph as ig\n",
    "import matplotlib.pyplot as plt"
   ]
  },
  {
   "cell_type": "markdown",
   "id": "10ef760b-2628-4717-8c33-092a1665c91d",
   "metadata": {},
   "source": [
    "## For convenience, extract the solution to a dictionary named `sol_x`"
   ]
  },
  {
   "cell_type": "code",
   "execution_count": null,
   "id": "3ad08c81-202b-4fe9-ba90-0bc338268a4e",
   "metadata": {},
   "outputs": [],
   "source": [
    "sol_x = mcf_sol.get_value_dict(x)\n",
    "sol_x"
   ]
  },
  {
   "cell_type": "markdown",
   "id": "5f3e9a7b-1457-4aad-adbc-812a3f506460",
   "metadata": {},
   "source": [
    "## Instantiate a `Graph` object with module `igraph`\n",
    "### Notes\n",
    "- __*Node(s)*__ is/are called __*vertex/vertices*__ in `igraph`\n",
    "- __*Link(s)*__ is/are called __*edge/edges*__ in `igraph`\n",
    "- The edge list is sufficient to instantiate a `Graph` object. The vertex list is automatically inferred by `igraph` (based on the tails/heads' indices)."
   ]
  },
  {
   "cell_type": "code",
   "execution_count": null,
   "id": "087d9519-b72b-440e-8ad3-f9fddf0cccb2",
   "metadata": {},
   "outputs": [],
   "source": [
    "g = ig.Graph(edges=E, directed=True)"
   ]
  },
  {
   "cell_type": "markdown",
   "id": "c045eb10-741a-4bc7-9982-625f950311b2",
   "metadata": {},
   "source": [
    "## Visualize the graph"
   ]
  },
  {
   "cell_type": "code",
   "execution_count": null,
   "id": "ed28a92d-c632-4135-aca3-75b3fe581eb7",
   "metadata": {},
   "outputs": [],
   "source": [
    "g.vs['label'] = g.vs.indices\n",
    "g.vs['size'] = 50\n",
    "g.vs['color'] = 'white'\n",
    "g.vs[S]['color'] = 'green'\n",
    "g.vs[D]['color'] = 'red'\n",
    "\n",
    "g.es['flow'] = [sol_x[e] for e in E]\n",
    "g.es['cap'] = [mu[e] for e in E]\n",
    "g.es['label'] = ' '\n",
    "g.es['arrow_size'] = [10 if sol_x[e] > 0 else 6 for e in E]\n",
    "g.es['arrow_width'] = [10 if sol_x[e] > 0 else None for e in E]\n",
    "g.es['width'] = [3 if sol_x[e] > 0 else 0.5 for e in E]\n",
    "g.es['color'] = ['darkblue' if sol_x[e] > 0 else None for e in E]\n",
    "g.es['flow_label_color'] = ['blue' if sol_x[e] > 0 else 'black' for e in E]\n",
    "g.es['cap_label_color']  = ['red' if sol_x[e] > 0 else 'black' for e in E]\n",
    "g.es['label_size'] = [10 if sol_x[e] > 0 else 7 for e in E]\n",
    "\n",
    "fig, ax = plt.subplots()\n",
    "fig.set_size_inches(10,10)\n",
    "\n",
    "p = ig.plot(g, layout=g.layout('tree'), edge_label=g.es['label'], target=ax)\n",
    "\n",
    "for e, edge_label in zip(g.es, p.get_edge_labels()):\n",
    "    txt = ax.annotate(f'{e[\"flow\"]:g}', xycoords=edge_label, xy=(-5,0), color=e['flow_label_color'], backgroundcolor='white', size=e['label_size'])\n",
    "    txt =  ax.annotate(f' | ', xycoords=txt, xy=(1,0), color='k', size=e['label_size'], verticalalignment='bottom')\n",
    "    txt =  ax.annotate(f'{e[\"cap\"]}', xycoords=txt, xy=(1,0), color=e['cap_label_color'], backgroundcolor='white', size=e['label_size'], verticalalignment='bottom')\n",
    "    \n",
    "plt.show()"
   ]
  }
 ],
 "metadata": {
  "kernelspec": {
   "display_name": "Python 3 (ipykernel)",
   "language": "python",
   "name": "python3"
  },
  "language_info": {
   "codemirror_mode": {
    "name": "ipython",
    "version": 3
   },
   "file_extension": ".py",
   "mimetype": "text/x-python",
   "name": "python",
   "nbconvert_exporter": "python",
   "pygments_lexer": "ipython3",
   "version": "3.11.8"
  }
 },
 "nbformat": 4,
 "nbformat_minor": 5
}
