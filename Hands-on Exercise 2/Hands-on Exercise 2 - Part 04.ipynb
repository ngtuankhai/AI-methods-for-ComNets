{
 "cells": [
  {
   "cell_type": "markdown",
   "id": "7975299d-b8ab-4554-858d-c002d0b68a89",
   "metadata": {},
   "source": [
    "<font size=50 color=darkblue>Min Cut MILP</font>"
   ]
  },
  {
   "cell_type": "markdown",
   "id": "7b54ddd6-f83f-4b5f-9554-c943f19da8c5",
   "metadata": {},
   "source": [
    "# Problem modelling in LP format"
   ]
  },
  {
   "cell_type": "markdown",
   "id": "51a4b586-29b8-45b6-8fdc-6b459299d69b",
   "metadata": {},
   "source": [
    "## Import necessary modules\n",
    "- Import function `read_model` from DOcplex to read the Min-Cut MILP from a temporary file\n",
    "- Module `tempfile` is imported to create the temporary file\n",
    "- Import function `remove` to delete the temporary file after reading it (required for python version < 3.12)"
   ]
  },
  {
   "cell_type": "code",
   "execution_count": null,
   "id": "d5e6e060-8249-472d-bc2f-b13fa9512481",
   "metadata": {},
   "outputs": [],
   "source": [
    "from docplex.mp.model_reader import read_model\n",
    "import tempfile\n",
    "from os import remove"
   ]
  },
  {
   "cell_type": "markdown",
   "id": "c1761d1d-9b69-4d2a-9cea-2f0bf31f2183",
   "metadata": {},
   "source": [
    "## Min-Cut MILP <font size=3>(variables are colored blue)</font>\n",
    "**Minimize**\n",
    "### $$\\sum_{(u,v)\\in \\mathcal{E}}\\mu_{(u,v)}\\cdot \\color{blue}x_{(u,v)}$$\n",
    "**Subject to**\n",
    "### \\begin{align*}\n",
    "{\\color{blue}z}_{\\color{red}(t)} - {\\color{blue}z}_{\\color{green}(s)}&=1&\\\\\n",
    "{\\color{blue}x_{(u,v)}} &\\ge {\\color{blue}z_{(v)}} - {\\color{blue}z_{(u)}},&\\forall(u,v)\\in \\mathcal{E}\\\\\n",
    "{\\color{blue}x_{(u,v)}}&\\in \\left\\{0,1\\right\\},&\\forall(u,v)\\in \\mathcal{E}\\\\\n",
    "{\\color{blue}z_{(v)}} &\\in \\mathbb{R},&\\forall v\\in \\mathcal{V}\\\\\n",
    "\\end{align*}"
   ]
  },
  {
   "cell_type": "markdown",
   "id": "d7b2dbbb-6c0a-4c4b-bd34-5126380eb218",
   "metadata": {},
   "source": [
    "## Display the network\n",
    "<img src='img/mc.png' width=700/>"
   ]
  },
  {
   "cell_type": "markdown",
   "id": "23ee6336-0189-464c-8a6f-7a95d6b97afc",
   "metadata": {},
   "source": [
    "## Write the Min-Cut MILP model (in LP format), which is assigned to the variable `mc_str`"
   ]
  },
  {
   "cell_type": "code",
   "execution_count": null,
   "id": "6b598d1b-2c62-4b92-a41c-dff3eb898b00",
   "metadata": {},
   "outputs": [],
   "source": [
    "mc_str = '''\n",
    "Minimize\n",
    " obj:   10 x(0,1) +  5 x(0,2) + 15 x(0,3) +  4 x(1,2) +  9 x(1,4)\n",
    "      + 15 x(1,5) +  4 x(2,3) +  8 x(2,5) + 30 x(3,6) + 15 x(4,5)\n",
    "      + 10 x(4,7) + 15 x(5,6) + 10 x(5,7) +  6 x(6,2) + 10 x(6,7)\n",
    "Subject To\n",
    " c0: z(7) - z(0) = 1\n",
    " c1: x(0,1) + z(0) - z(1) >= 0\n",
    " c2: x(0,2) + z(0) - z(2) >= 0\n",
    " c3: x(0,3) + z(0) - z(3) >= 0\n",
    " c4: x(1,2) + z(1) - z(2) >= 0\n",
    " c5: x(1,4) + z(1) - z(4) >= 0\n",
    " c6: x(1,5) + z(1) - z(5) >= 0\n",
    " c7: x(2,3) + z(2) - z(3) >= 0\n",
    " c8: x(2,5) + z(2) - z(5) >= 0\n",
    " c9: x(3,6) + z(3) - z(6) >= 0\n",
    " c10: x(4,5) + z(4) - z(5) >= 0\n",
    " c11: x(4,7) + z(4) - z(7) >= 0\n",
    " c12: x(5,6) + z(5) - z(6) >= 0\n",
    " c13: x(5,7) + z(5) - z(7) >= 0\n",
    " c14: x(6,2) - z(2) + z(6) >= 0\n",
    " c15: x(6,7) + z(6) - z(7) >= 0\n",
    "\n",
    "Binaries\n",
    " x(0,1) x(0,2) x(0,3) x(1,2) x(1,4) x(1,5) x(2,3) x(2,5) x(3,6) x(4,5) x(4,7)\n",
    " x(5,6) x(5,7) x(6,2) x(6,7)\n",
    "End\n",
    "'''"
   ]
  },
  {
   "cell_type": "markdown",
   "id": "2be7d766-e534-42db-924d-ec8798ae8deb",
   "metadata": {},
   "source": [
    "## To import the MILP model to DOcplex\n",
    "- Store the model to a temporary file\n",
    "- Have DOcplex read the model from the temporary file"
   ]
  },
  {
   "cell_type": "code",
   "execution_count": null,
   "id": "0f7d8dd4-81a9-4146-8c74-89d536cc50b9",
   "metadata": {},
   "outputs": [],
   "source": [
    "# Store string to tmp file\n",
    "with tempfile.TemporaryFile(delete=False) as tmp:\n",
    "    tmp.write(mc_str.encode('utf-8'))\n",
    "    tmp.close()\n",
    "    # Have DOcplex read the string\n",
    "    mc_MILP = read_model(filename=tmp.name, model_name='Minimum Cut')\n",
    "    # Delete the temporary file\n",
    "    remove(tmp.name)"
   ]
  },
  {
   "cell_type": "markdown",
   "id": "7f076fd4-c9f0-40fa-b14a-3795367bc341",
   "metadata": {},
   "source": [
    "## Summarize the model"
   ]
  },
  {
   "cell_type": "code",
   "execution_count": null,
   "id": "a92ea532-7e81-462f-b3b6-fe8d1f57ef7f",
   "metadata": {},
   "outputs": [],
   "source": [
    "mc_MILP.print_information()"
   ]
  },
  {
   "cell_type": "markdown",
   "id": "04a33a11-0787-4220-9f95-3704aed5d627",
   "metadata": {},
   "source": [
    "## Solve the MILP and display the result"
   ]
  },
  {
   "cell_type": "code",
   "execution_count": null,
   "id": "24dc1678-6d3b-4290-978a-1b94c0017300",
   "metadata": {},
   "outputs": [],
   "source": [
    "mc_sol = mc_MILP.solve()\n",
    "if mc_sol:\n",
    "    mc_sol.display()"
   ]
  },
  {
   "cell_type": "markdown",
   "id": "8edc9f30-206e-4f0f-b4e3-c2c272b055fb",
   "metadata": {},
   "source": [
    "# Result Visualization"
   ]
  },
  {
   "cell_type": "markdown",
   "id": "ed3b75ea-336b-4efb-9e35-8fa8f24b572b",
   "metadata": {},
   "source": [
    "## Import visualization modules\n",
    "- `igraph`, `matplotlib`, `re`, `numpy`, `scipy`"
   ]
  },
  {
   "cell_type": "code",
   "execution_count": null,
   "id": "250c5c8f-c5e4-476c-80b2-f1e4ff44f8ae",
   "metadata": {},
   "outputs": [],
   "source": [
    "import igraph as ig\n",
    "import matplotlib.pyplot as plt\n",
    "import re\n",
    "import numpy as np\n",
    "from scipy import interpolate\n",
    "from scipy.spatial import ConvexHull"
   ]
  },
  {
   "cell_type": "markdown",
   "id": "2220956b-85c9-4894-b210-a21c919d17f1",
   "metadata": {},
   "source": [
    "## Extract the node list `V`, link list `E`, link capacities $\\mu$, source <code><font color='green'>s</font></code>, and sink <code><font color='red'>t</font></code> from the MILP model"
   ]
  },
  {
   "cell_type": "code",
   "execution_count": null,
   "id": "06bc696b-e230-427c-8651-1eda5be41d68",
   "metadata": {},
   "outputs": [],
   "source": [
    "V, E, mu = [], [], {}\n",
    "\n",
    "V = [int(re.findall('z\\((.+)\\)', var.name)[0]) for var in mc_MILP.iter_continuous_vars()]\n",
    "\n",
    "for var in mc_MILP.iter_binary_vars():\n",
    "    u, v = re.findall('x\\((.+),(.+)\\)', var.name)[0]\n",
    "    E.append(e:=(int(u), int(v)))\n",
    "    mu[e] = mc_MILP.objective_expr.get_coef(var)\n",
    "\n",
    "for var, coef in mc_MILP.get_constraint_by_name('c0').get_left_expr().iter_terms():\n",
    "    if coef == 1:\n",
    "        t = int(re.findall(f'z\\((.+)\\)', var.name)[0])\n",
    "    else:\n",
    "        s = int(re.findall(f'z\\((.+)\\)', var.name)[0])"
   ]
  },
  {
   "cell_type": "markdown",
   "id": "15add86c-13fc-4c67-a569-577244715ca0",
   "metadata": {},
   "source": [
    "## For convenience, extract the solution to dictionaries named `sol_x` and `sol_z`"
   ]
  },
  {
   "cell_type": "code",
   "execution_count": null,
   "id": "aaf12678-8879-4369-b1ab-22bbd7068cd7",
   "metadata": {},
   "outputs": [],
   "source": [
    "sol_x = {(u,v): mc_sol.get_value(f'x({u},{v})') for u,v in E}\n",
    "sol_z = {v: mc_sol.get_value(f'z({v})') for v in V}\n",
    "print(f'{sol_x = }')\n",
    "print(f'{sol_z = }')"
   ]
  },
  {
   "cell_type": "markdown",
   "id": "8cbd3b09-7851-48e5-87c2-d9f5f1d3ffa6",
   "metadata": {},
   "source": [
    "## Instantiate a `Graph` object with module `igraph`\n",
    "### Notes\n",
    "- __*Node(s)*__ is/are called __*vertex/vertices*__ in `igraph`\n",
    "- __*Link(s)*__ is/are called __*edge/edges*__ in `igraph`\n",
    "- The edge list is sufficient to instantiate a `Graph` object. The vertex list is automatically inferred by `igraph` (based on the tails/heads' indices)."
   ]
  },
  {
   "cell_type": "code",
   "execution_count": null,
   "id": "5c9a3885-8fd0-4a44-9b29-b1c6a63835b7",
   "metadata": {},
   "outputs": [],
   "source": [
    "g = ig.Graph(edges=E, directed=True)"
   ]
  },
  {
   "cell_type": "markdown",
   "id": "bdca49ae-970e-461a-a226-af5323680549",
   "metadata": {},
   "source": [
    "## Visualize the graph"
   ]
  },
  {
   "cell_type": "code",
   "execution_count": null,
   "id": "9ed7acc2-c642-4472-9cc9-b0493b3f8ebf",
   "metadata": {},
   "outputs": [],
   "source": [
    "g.vs['label'] = g.vs.indices\n",
    "g.vs['size'] = 50\n",
    "g.vs['color'] = 'white'\n",
    "g.vs[s,t]['color'] = 'green', 'red'\n",
    "\n",
    "g.es['label'] = [mu[e] for e in E]\n",
    "g.es['arrow_size'] = [10 if sol_x[e] > 0 else 6 for e in E]\n",
    "g.es['arrow_width'] = [10 if sol_x[e] > 0 else None for e in E]\n",
    "g.es['width'] = [3 if sol_x[e] > 0 else 0.5 for e in E]\n",
    "g.es['color'] = ['darkblue' if sol_x[e] > 0 else None for e in E]\n",
    "g.es['label_size'] = 15\n",
    "\n",
    "fig, ax = plt.subplots()\n",
    "fig.set_size_inches(10,10)\n",
    "\n",
    "layout = g.layout('fr')\n",
    "coords = np.asarray(layout.coords)\n",
    "p = ig.plot(g, layout=layout, edge_label=g.es['label'], edge_background='white', target=ax)\n",
    "\n",
    "bboxes = [path.get_extents().transformed(ax.transData.inverted()) for path in p.get_vertices().get_paths()]\n",
    "radii = [max(bbox.height, bbox.width)/2 for bbox in bboxes]\n",
    "\n",
    "S_circle_pads = [plt.Circle(coords[v], radii[v]*1.5) for v in V if sol_z[v] == sol_z[s]]\n",
    "S_pts = np.asarray([pt for c in S_circle_pads for pt in c.get_patch_transform().transform(c.get_path().vertices)])\n",
    "\n",
    "centroid = np.atleast_2d(S_pts[ConvexHull(S_pts).vertices].mean(0))\n",
    "\n",
    "cross_pts = [(2/3)*coords[u, :] + (1/3)*coords[v, :] for u, v in E if sol_x[u, v] == 1]\n",
    "\n",
    "hull = ConvexHull(bndry_pts:=np.vstack((S_pts, cross_pts)))\n",
    "bndry_pts = bndry_pts[hull.vertices]\n",
    "bndry_pts = np.unique(np.vstack((bndry_pts, cross_pts)), axis=0)\n",
    "bndry_pts = bndry_pts[np.argsort(np.arctan2(*(bndry_pts - centroid).T))]\n",
    "\n",
    "tck, u = interpolate.splprep(np.tile(bndry_pts, (20,1)).T, s=0)\n",
    "out = interpolate.splev(np.linspace(0, 1, 1000), tck)\n",
    "\n",
    "plt.fill(out[0], out[1], c='green', alpha=.3, ec=None)\n",
    "\n",
    "plt.show()"
   ]
  }
 ],
 "metadata": {
  "kernelspec": {
   "display_name": "Python 3 (ipykernel)",
   "language": "python",
   "name": "python3"
  },
  "language_info": {
   "codemirror_mode": {
    "name": "ipython",
    "version": 3
   },
   "file_extension": ".py",
   "mimetype": "text/x-python",
   "name": "python",
   "nbconvert_exporter": "python",
   "pygments_lexer": "ipython3",
   "version": "3.11.8"
  }
 },
 "nbformat": 4,
 "nbformat_minor": 5
}
