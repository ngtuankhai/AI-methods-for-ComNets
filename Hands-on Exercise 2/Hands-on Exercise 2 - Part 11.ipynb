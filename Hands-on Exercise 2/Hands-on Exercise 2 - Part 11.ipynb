{
 "cells": [
  {
   "cell_type": "markdown",
   "id": "ebe46db2-b60c-4532-aa3b-35cea23da625",
   "metadata": {},
   "source": [
    "<font size=50 color=darkblue>Knapsack ILP</font>"
   ]
  },
  {
   "cell_type": "markdown",
   "id": "38300b71-fb17-4c84-98b0-e11890c3f610",
   "metadata": {},
   "source": [
    "# Problem modelling with DOcplex"
   ]
  },
  {
   "cell_type": "markdown",
   "id": "a216b722-2666-4ed5-8de3-dc7071fdcad9",
   "metadata": {},
   "source": [
    "## Import necessary modules\n",
    "\n",
    "- DOcplex will be used to model and solve the Knapsack ILP\n",
    "- Import module `json` to read example data"
   ]
  },
  {
   "cell_type": "code",
   "execution_count": null,
   "id": "f125949a-b474-4a15-8065-56a20c9adc93",
   "metadata": {},
   "outputs": [],
   "source": [
    "from docplex.mp.model import Model\n",
    "import json"
   ]
  },
  {
   "cell_type": "markdown",
   "id": "b010869d-7f7d-4fde-a03c-7bf194a7b3df",
   "metadata": {},
   "source": [
    "## Knapsack ILP <font size=3>(variables are colored blue)</font>\n",
    "**Maximize**\n",
    "### $$\\sum_{i\\in I}v_{(i)}\\cdot \\color{blue}x_{(i)}$$\n",
    "**Subject to**\n",
    "### \\begin{align*}\n",
    "\\sum_{i\\in I}w_{(i)}\\cdot {\\color{blue}x_{(i)}}\\le&\\, K\\\\\n",
    "{\\color{blue}x_{(i)}}\\in&\\,\\{0,1\\},\\quad&\\forall i\\in I\n",
    "\\end{align*}"
   ]
  },
  {
   "cell_type": "markdown",
   "id": "7f68f837-e7a1-44c6-8159-2246aabf8d91",
   "metadata": {},
   "source": [
    "## Define the model input\n",
    "### \\begin{align*}\n",
    "I =\\,& \\{1, 2, 3\\}\\\\\n",
    "v_{(1)} =\\,& 45,& v_{(2)} &=\\, 48,& v_{(3)} &=\\, 35\\\\\n",
    "w_{(1)} =\\,& 5,& w_{(2)} &=\\, 8,& w_{(3)} &=\\, 3\\\\\n",
    "K =\\,& 10\\\\\n",
    "\\end{align*}"
   ]
  },
  {
   "cell_type": "code",
   "execution_count": null,
   "id": "121017d7-4ee7-4b06-9c16-443b4ad0f4fa",
   "metadata": {},
   "outputs": [],
   "source": [
    "I = [1, 2, 3]\n",
    "v = dict(zip(I, [45, 48, 35]))\n",
    "w = dict(zip(I, [5, 8, 3]))\n",
    "K = 10"
   ]
  },
  {
   "cell_type": "markdown",
   "id": "60beccbc-3d9d-4446-81db-4a87b8aa6600",
   "metadata": {},
   "source": [
    "## Or import the input from example files\n",
    "### There are 21 examples available: `knapsack_ex_1`, `knapsack_ex_2`, $\\dots$ , `knapsack_ex_21`\n",
    "**<font color='red'>Note: Only run this cell to overwrite the data from the cell above.</font>**"
   ]
  },
  {
   "cell_type": "code",
   "execution_count": null,
   "id": "487af7ac-7d59-41db-9dd0-e424ed864e02",
   "metadata": {},
   "outputs": [],
   "source": [
    "with open('knapsack_data/knapsack_ex_21', 'r') as fp:\n",
    "    ks_data = json.load(fp)\n",
    "I = list(range(1, ks_data['n'] + 1))\n",
    "v = dict(zip(I, ks_data['values']))\n",
    "w = dict(zip(I, ks_data['weights']))\n",
    "K = ks_data['K']\n",
    "print(f'In this example:\\n\\t- Number of items: {len(I)}\\n\\t- Knapsack capacity: {K}')"
   ]
  },
  {
   "cell_type": "markdown",
   "id": "b0fcd338-c5ca-4c9a-b1c4-53e543dcb996",
   "metadata": {},
   "source": [
    "## Create the ILP model for Knapsack problem using DOcplex"
   ]
  },
  {
   "cell_type": "code",
   "execution_count": null,
   "id": "ec0d00ec-6b7c-4755-a289-8377614668fa",
   "metadata": {},
   "outputs": [],
   "source": [
    "ks_ILP = Model(name='Knapsack')"
   ]
  },
  {
   "cell_type": "markdown",
   "id": "aab6119d-c896-45bb-b255-99e967a3d5dd",
   "metadata": {},
   "source": [
    "## Define decision variables as binaries: ${\\color{blue}x_{(i)}}\\in \\{0,1\\},\\quad\\forall i\\in I$"
   ]
  },
  {
   "cell_type": "code",
   "execution_count": null,
   "id": "9c786afd-d17d-4c41-8777-f8e4e9a18ccb",
   "metadata": {},
   "outputs": [],
   "source": [
    "ks_ILP.clear() # This line is optional. Its purpose is to avoid variable duplicates\n",
    "x = {i: ks_ILP.binary_var(name=f'x({i})') for i in I}"
   ]
  },
  {
   "cell_type": "markdown",
   "id": "babdd30a-10a7-4fb0-b825-aaee64761b08",
   "metadata": {},
   "source": [
    "## Define capacity constraint $$\\sum_{i\\in I}w_{(i)}\\cdot {\\color{blue}x_{(i)}}\\le\\, K$$"
   ]
  },
  {
   "cell_type": "code",
   "execution_count": null,
   "id": "4e5581ad-dec6-4027-ab84-5856b47e8115",
   "metadata": {},
   "outputs": [],
   "source": [
    "ks_ILP.add_constraint_(ct=ks_ILP.sum(w[i]*x[i] for i in I) <= K, ctname='capacity_constraint')"
   ]
  },
  {
   "cell_type": "markdown",
   "id": "df3cfec9-0056-454e-9cf1-9efba2ca4a60",
   "metadata": {},
   "source": [
    "## Define objective function $$\\textbf{maximize}\\qquad \\sum_{i\\in I}v_{(i)}\\cdot {\\color{blue}x_{(i)}}$$"
   ]
  },
  {
   "cell_type": "code",
   "execution_count": null,
   "id": "a4a325bd-37f1-4214-bdfc-3193dc47c53e",
   "metadata": {},
   "outputs": [],
   "source": [
    "ks_ILP.maximize(ks_ILP.sum(v[i]*x[i] for i in I))"
   ]
  },
  {
   "cell_type": "markdown",
   "id": "7d2225ca-a865-4f03-aeaa-785fcdfc5fab",
   "metadata": {},
   "source": [
    "## Summarize the model"
   ]
  },
  {
   "cell_type": "code",
   "execution_count": null,
   "id": "72387fa1-d512-4102-b0fa-b2a49e130d98",
   "metadata": {},
   "outputs": [],
   "source": [
    "ks_ILP.print_information()"
   ]
  },
  {
   "cell_type": "markdown",
   "id": "17f58bc2-7394-48b7-975e-2c34c875c20d",
   "metadata": {},
   "source": [
    "## Solve the ILP and display the result"
   ]
  },
  {
   "cell_type": "code",
   "execution_count": null,
   "id": "ab0de65a-e143-485d-bd3d-4c8d88ba3b5e",
   "metadata": {},
   "outputs": [],
   "source": [
    "ks_sol = ks_ILP.solve()\n",
    "if ks_sol:\n",
    "    ks_sol.display()"
   ]
  }
 ],
 "metadata": {
  "kernelspec": {
   "display_name": "Python 3 (ipykernel)",
   "language": "python",
   "name": "python3"
  },
  "language_info": {
   "codemirror_mode": {
    "name": "ipython",
    "version": 3
   },
   "file_extension": ".py",
   "mimetype": "text/x-python",
   "name": "python",
   "nbconvert_exporter": "python",
   "pygments_lexer": "ipython3",
   "version": "3.11.8"
  }
 },
 "nbformat": 4,
 "nbformat_minor": 5
}
