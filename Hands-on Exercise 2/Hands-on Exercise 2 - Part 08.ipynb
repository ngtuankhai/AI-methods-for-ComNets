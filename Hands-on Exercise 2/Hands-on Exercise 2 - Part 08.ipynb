{
 "cells": [
  {
   "cell_type": "markdown",
   "metadata": {},
   "source": [
    "<font size=50 color=darkblue>Max Flow LP</font>"
   ]
  },
  {
   "cell_type": "markdown",
   "metadata": {},
   "source": [
    "# Problem modelling with DOcplex"
   ]
  },
  {
   "cell_type": "markdown",
   "metadata": {},
   "source": [
    "## Import necessary modules\n",
    "\n",
    "- DOcplex will be used to model and solve the Max-Flow LP\n",
    "- Import module `itertools` to group links based on their tails/heads"
   ]
  },
  {
   "cell_type": "code",
   "execution_count": null,
   "metadata": {},
   "outputs": [],
   "source": [
    "from docplex.mp.model import Model\n",
    "import itertools"
   ]
  },
  {
   "cell_type": "markdown",
   "metadata": {},
   "source": [
    "## Max-Flow LP <font size=3>(variables are colored blue)</font>\n",
    "**Maximize**\n",
    "### $${\\color{blue}y}_{({\\color{red}t},{\\color{green}s})}$$\n",
    "**Subject to**\n",
    "### \\begin{align*}\n",
    "\\sum_{(u,v)\\in{\\color{red}\\delta}^{{\\color{red}-}}_{(v)}}{\\color{blue}y_{(u,v)}} - \\sum_{(v,u)\\in{\\color{green}\\delta}^{{\\color{green}+}}_{(v)}}{\\color{blue}y_{(v,u)}} = 0,\\qquad&\\forall v\\in \\mathcal{V}\\\\\n",
    "0\\le {\\color{blue}y_{(u,v)}}\\le\\mu_{(u,v)},\\qquad&\\forall (u,v)\\in \\mathcal{E}\n",
    "\\end{align*}"
   ]
  },
  {
   "cell_type": "markdown",
   "metadata": {},
   "source": [
    "## Display the network\n",
    "<img src='img/mxf.png' width=700/>"
   ]
  },
  {
   "cell_type": "markdown",
   "metadata": {},
   "source": [
    "## Define the model input\n",
    "### \\begin{align*}\n",
    "\\mathcal{V} =\\,& \\{0, 1, 2, 3, 4, 5, 6, 7\\}&\\\\\n",
    "\\mathcal{E} =\\,& \\{(0,1), (0,2), (0,3), (1,2), (1,4), (1,5), (2,3), (2,5), (3,6), (4,5), (4,7), (5,6), (5,7), (6,2), (6,7)\\}&\\\\\n",
    "{\\color{green}s} =\\,& 0&\\\\\n",
    "{\\color{red}t} =\\,& 7&\n",
    "\\end{align*}"
   ]
  },
  {
   "cell_type": "code",
   "execution_count": null,
   "metadata": {},
   "outputs": [],
   "source": [
    "V = [0, 1, 2, 3, 4, 5, 6, 7]\n",
    "E = [(0,1), (0,2), (0,3), (1,2), (1,4), (1,5), (2,3), (2,5), (3,6), (4,5), (4,7), (5,6), (5,7), (6,2), (6,7)]\n",
    "s, t = 0, 7"
   ]
  },
  {
   "cell_type": "markdown",
   "metadata": {},
   "source": [
    "## Augment the graph with the imaginary link (<font color='red'>t</font>, <font color='green'>s</font>)\n",
    "### $$\\mathcal{E}:=\\mathcal{E}\\cup \\{({\\color{red}t},{\\color{green}s})\\}$$"
   ]
  },
  {
   "cell_type": "code",
   "execution_count": null,
   "metadata": {},
   "outputs": [],
   "source": [
    "E.append((t,s))"
   ]
  },
  {
   "cell_type": "markdown",
   "metadata": {},
   "source": [
    "## Define in-links <code><font color='red'>delta_min</font></code> and out-links <code><font color='green'>delta_pls</font></code>, subscriptable by node indices\n",
    "### \\begin{align*}\n",
    "{\\color{red}\\delta}^{\\color{red}-}_{(v)} = \\{e\\in \\mathcal{E}\\,|&\\,\\text{head}(e)\\equiv v \\},&\\quad\\forall v\\in \\mathcal{V}\\\\\n",
    "{\\color{green}\\delta}^{\\color{green}+}_{(v)} = \\{e\\in \\mathcal{E}\\,|&\\,\\text{tail}(e)\\equiv v \\},&\\quad\\forall v\\in \\mathcal{V}\\\\\n",
    "\\end{align*}"
   ]
  },
  {
   "cell_type": "code",
   "execution_count": null,
   "metadata": {},
   "outputs": [],
   "source": [
    "# Anonymous functions\n",
    "head = lambda e: e[1]\n",
    "tail = lambda e: e[0]\n",
    "delta_min = {v: set(delt_min) for v, delt_min in itertools.groupby(sorted(E, key=head), head)}\n",
    "delta_pls = {v: set(delt_pls) for v, delt_pls in itertools.groupby(sorted(E, key=tail), tail)}"
   ]
  },
  {
   "cell_type": "markdown",
   "metadata": {},
   "source": [
    "## Define link capacities $\\mu_{(e)},\\,\\forall e\\in \\mathcal{E}$, subscriptable by link indices\n",
    "**<font color='red'>Note: The imaginary link</font> (<font color='red'>t</font>, <font color='green'>s</font>) <font color='red'> is unbounded from above. Its upper bound is set to <code>None</code></font>.**"
   ]
  },
  {
   "cell_type": "code",
   "execution_count": null,
   "metadata": {},
   "outputs": [],
   "source": [
    "mu = dict(zip(E, [10, 5, 15, 4, 9, 15, 4, 8, 30, 15, 10, 15, 10, 6, 10, None]))"
   ]
  },
  {
   "cell_type": "markdown",
   "metadata": {},
   "source": [
    "## Create the LP model for Max-Flow problem using DOcplex"
   ]
  },
  {
   "cell_type": "code",
   "execution_count": null,
   "metadata": {},
   "outputs": [],
   "source": [
    "mxf_LP = Model(name='Max Flow')"
   ]
  },
  {
   "cell_type": "markdown",
   "metadata": {},
   "source": [
    "## Define decision variables: $0\\le {\\color{blue}y_{(e)}}\\le\\mu_{(e)},\\quad\\forall e\\in \\mathcal{E}$"
   ]
  },
  {
   "cell_type": "code",
   "execution_count": null,
   "metadata": {},
   "outputs": [],
   "source": [
    "mxf_LP.clear() # This line is optional. Its purpose is to avoid variable duplicates\n",
    "y = {(u,v): mxf_LP.continuous_var(name=f'y({u},{v})', ub=mu[u,v]) for u,v in E}"
   ]
  },
  {
   "cell_type": "markdown",
   "metadata": {},
   "source": [
    "## Define flow conservation constraints, subscriptable by node indices $$\\sum_{(u,v)\\in{\\color{red}\\delta}^{{\\color{red}-}}_{(v)}}{\\color{blue}y_{(u,v)}} - \\sum_{(v,u)\\in{\\color{green}\\delta}^{{\\color{green}+}}_{(v)}}{\\color{blue}y_{(v,u)}} = 0,\\quad\\forall v\\in \\mathcal{V}$$"
   ]
  },
  {
   "cell_type": "code",
   "execution_count": null,
   "metadata": {},
   "outputs": [],
   "source": [
    "flow_conserv_ct = {v: mxf_LP.add_constraint(ct=mxf_LP.sum(y[e] for e in delta_min[v]) - mxf_LP.sum(y[e] for e in delta_pls[v]) == 0,\n",
    "                                            ctname=f'flow_conservation({v})') for v in V}"
   ]
  },
  {
   "cell_type": "markdown",
   "metadata": {},
   "source": [
    "## Define objective function $$\\textbf{maximize}\\qquad {\\color{blue}y}_{({\\color{red}t},{\\color{green}s})}$$"
   ]
  },
  {
   "cell_type": "code",
   "execution_count": null,
   "metadata": {},
   "outputs": [],
   "source": [
    "mxf_LP.maximize(y[t,s])"
   ]
  },
  {
   "cell_type": "markdown",
   "metadata": {},
   "source": [
    "## Summarize the model"
   ]
  },
  {
   "cell_type": "code",
   "execution_count": null,
   "metadata": {},
   "outputs": [],
   "source": [
    "mxf_LP.print_information()"
   ]
  },
  {
   "cell_type": "markdown",
   "metadata": {},
   "source": [
    "## Solve the LP and display the result"
   ]
  },
  {
   "cell_type": "code",
   "execution_count": null,
   "metadata": {},
   "outputs": [],
   "source": [
    "mxf_sol = mxf_LP.solve()\n",
    "if mxf_sol:\n",
    "    mxf_sol.display()"
   ]
  },
  {
   "cell_type": "markdown",
   "metadata": {},
   "source": [
    "# Result Visualization"
   ]
  },
  {
   "cell_type": "markdown",
   "metadata": {},
   "source": [
    "## Import visualization modules\n",
    "- `igraph`, `matplotlib`"
   ]
  },
  {
   "cell_type": "code",
   "execution_count": null,
   "metadata": {},
   "outputs": [],
   "source": [
    "import igraph as ig\n",
    "import matplotlib.pyplot as plt"
   ]
  },
  {
   "cell_type": "markdown",
   "metadata": {},
   "source": [
    "## For convenience, extract the solution to a dictionary named `sol_y`"
   ]
  },
  {
   "cell_type": "code",
   "execution_count": null,
   "metadata": {
    "scrolled": true
   },
   "outputs": [],
   "source": [
    "sol_y = mxf_sol.get_value_dict(y)\n",
    "sol_y"
   ]
  },
  {
   "cell_type": "markdown",
   "metadata": {},
   "source": [
    "## Since the link (<font color='red'>t</font>, <font color='green'>s</font>) is imaginary, remove it from the link list `E`"
   ]
  },
  {
   "cell_type": "code",
   "execution_count": null,
   "metadata": {},
   "outputs": [],
   "source": [
    "E.remove((t,s))"
   ]
  },
  {
   "cell_type": "markdown",
   "metadata": {},
   "source": [
    "## Instantiate a `Graph` object with module `igraph`\n",
    "### Notes\n",
    "- __*Node(s)*__ is/are called __*vertex/vertices*__ in `igraph`\n",
    "- __*Link(s)*__ is/are called __*edge/edges*__ in `igraph`\n",
    "- The edge list is sufficient to instantiate a `Graph` object. The vertex list is automatically inferred by `igraph` (based on the tails/heads' indices)."
   ]
  },
  {
   "cell_type": "code",
   "execution_count": null,
   "metadata": {},
   "outputs": [],
   "source": [
    "g = ig.Graph(edges=E, directed=True)"
   ]
  },
  {
   "cell_type": "markdown",
   "metadata": {},
   "source": [
    "## Visualize the graph"
   ]
  },
  {
   "cell_type": "code",
   "execution_count": null,
   "metadata": {},
   "outputs": [],
   "source": [
    "g.vs['label'] = g.vs.indices\n",
    "g.vs['size'] = 50\n",
    "g.vs['color'] = 'white'\n",
    "g.vs[s,t]['color'] = 'green', 'red'\n",
    "\n",
    "lnk_flow_max = max(sol_y.values())\n",
    "g.es['flow'] = [sol_y[e] for e in E]\n",
    "g.es['cap'] = [mu[e] for e in E]\n",
    "g.es['label'] = ' '\n",
    "g.es['arrow_size'] = [10 if sol_y[e] > 0 else 6 for e in E]\n",
    "g.es['arrow_width'] = [10 if sol_y[e] > 0 else None for e in E]\n",
    "g.es['width'] = [.4*(sol_y[e] + 1) for e in E]\n",
    "g.es['color'] = ['darkblue' if sol_y[e] > 0 else None for e in E]\n",
    "g.es['flow_label_color'] = ['blue' if sol_y[e] > 0 else 'black' for e in E]\n",
    "g.es['cap_label_color']  = ['red' if sol_y[e] > 0 else 'black' for e in E]\n",
    "g.es['label_size'] = [10 if sol_y[e] > 0 else 7 for e in E]\n",
    "\n",
    "fig, ax = plt.subplots()\n",
    "fig.set_size_inches(10,10)\n",
    "\n",
    "p = ig.plot(g, layout=g.layout('fr'), edge_label=g.es['label'], target=ax)\n",
    "\n",
    "for e, edge_label in zip(g.es, p.get_edge_labels()):\n",
    "    txt = ax.annotate(f'{e[\"flow\"]:g}', xycoords=edge_label, xy=(-5,0), color=e['flow_label_color'], backgroundcolor='white', size=e['label_size'])\n",
    "    txt =  ax.annotate(f' | ', xycoords=txt, xy=(1,0), color='k', size=e['label_size'], verticalalignment='bottom')\n",
    "    txt =  ax.annotate(f'{e[\"cap\"]}', xycoords=txt, xy=(1,0), color=e['cap_label_color'], backgroundcolor='white', size=e['label_size'], verticalalignment='bottom')\n",
    "    \n",
    "plt.show()"
   ]
  }
 ],
 "metadata": {
  "kernelspec": {
   "display_name": "Python 3 (ipykernel)",
   "language": "python",
   "name": "python3"
  },
  "language_info": {
   "codemirror_mode": {
    "name": "ipython",
    "version": 3
   },
   "file_extension": ".py",
   "mimetype": "text/x-python",
   "name": "python",
   "nbconvert_exporter": "python",
   "pygments_lexer": "ipython3",
   "version": "3.11.8"
  }
 },
 "nbformat": 4,
 "nbformat_minor": 4
}
