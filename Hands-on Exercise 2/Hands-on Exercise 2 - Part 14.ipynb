{
 "cells": [
  {
   "cell_type": "markdown",
   "id": "aa055966-89ec-439f-ae20-86e7817eaa0a",
   "metadata": {},
   "source": [
    "<font size=50 color=darkblue>Graph Coloring - Breaking Symmetries</font>"
   ]
  },
  {
   "cell_type": "markdown",
   "id": "73d66667-140b-497f-8f28-2cc1ad49a50a",
   "metadata": {},
   "source": [
    "# Problem modelling with DOcplex"
   ]
  },
  {
   "cell_type": "markdown",
   "id": "e5208997-f543-4466-b00d-1b94043c3733",
   "metadata": {},
   "source": [
    "## Import necessary modules\n",
    "\n",
    "- DOcplex will be used to model and solve the Graph-Coloring MILP\n",
    "- Import module `json` to read example data\n",
    "- Import module `numpy` to vectorize the calculation of node degrees"
   ]
  },
  {
   "cell_type": "code",
   "execution_count": null,
   "id": "b6ab56f9-fedd-4dcd-bcdb-ff6aee9ac830",
   "metadata": {},
   "outputs": [],
   "source": [
    "from docplex.mp.model import Model\n",
    "import json\n",
    "import numpy as np"
   ]
  },
  {
   "cell_type": "markdown",
   "id": "0b892ae2-c685-4138-82da-8e167e9476f5",
   "metadata": {},
   "source": [
    "## Import the input from example files\n",
    "### 36 examples are available: `coloring_ex_1`, `coloring_ex_2`, $\\dots$ , `coloring_ex_36`\n",
    "**<font color='red'>Note: For CPLEX Community Edition, only the first 7 examples</font><font> `coloring_ex_1`, $\\dots$ , `coloring_ex_7`</font><font color='red'> are applicable.</font>**"
   ]
  },
  {
   "cell_type": "code",
   "execution_count": null,
   "id": "96cdce04-a707-485d-b9d8-7f1599dc82ff",
   "metadata": {},
   "outputs": [],
   "source": [
    "with open('coloring_data/coloring_ex_7', 'r') as fp:\n",
    "    colr_data = json.load(fp)\n",
    "    \n",
    "V = list(range(colr_data['n']))\n",
    "inc_E = colr_data['inc_E']\n",
    "E = [(int(u),v) for u in inc_E for v in inc_E[u]]\n",
    "print(f'In this example:\\n\\t- Number of nodes: {len(V)}\\n\\t- Number of links: {len(E)}')"
   ]
  },
  {
   "cell_type": "markdown",
   "id": "fdde639c-4cfb-4343-9580-79df4a9c8853",
   "metadata": {},
   "source": [
    "## Create the ILP model for Graph-Coloring problem using DOcplex"
   ]
  },
  {
   "cell_type": "code",
   "execution_count": null,
   "id": "94070eaa-28bb-410b-b580-8215c919b3aa",
   "metadata": {},
   "outputs": [],
   "source": [
    "colr_ILP = Model(name='Graph Coloring')"
   ]
  },
  {
   "cell_type": "markdown",
   "id": "3ef49741-a7ab-4e0c-b4eb-f53e7674ead4",
   "metadata": {},
   "source": [
    "## Solution Symmetry\n",
    "The Graph-Coloring model as we have constructed so far exhibits a lot of solution symmetries. One such symmetry is illustrated in the diagram below, where different solutions can yield identical objective values (the minimum number of colors is 3).\n",
    "\n",
    "<img src='img/symm.png' width=1000/>\n",
    "\n",
    "Usually, these symmetries are undesirable as it would require the solver to explore solutions whose similar versions have already been explored.\n",
    "\n",
    "For the Graph-Coloring problem, to break the symmetry as illustrated above, one can exploit the color indices and introduce redundant constraints based on these color indices. These constraints are regards as \"redundant\" because they do not affect the optimal results. Their role is merely to limit the search space so that the solver can avoid symmetries.\n",
    "\n",
    "This symmetry-breaking technique (among others) is based on the observation that, in order to keep the color indices low, a node can be colored with a color index not larger than its <em>node degree</em>. In an undirected network, the degree of a node (or node degree) is the number of its neighboring nodes. For example, the node degrees of the nodes 0, 1, 2, 3 in the diagram above are 1, 3, 1, 1 respectively. Hence, the color indices of these nodes can be limited to 1, 3, 1, 1 respectively. You can prove this observation as homework.\n",
    "\n",
    "Let us mathematically denote the node degree of a node $v$ as:\n",
    "$$\\partial_{(v)},\\quad v\\in\\mathcal{V}$$\n",
    "\n",
    "The following cell prepares a list of node degrees, named `node_degree`, for the entire node set $\\mathcal{V}$."
   ]
  },
  {
   "cell_type": "code",
   "execution_count": null,
   "id": "4c79cf2b-7b99-4651-9346-d17f71f64adc",
   "metadata": {},
   "outputs": [],
   "source": [
    "node_degree = np.zeros_like(V)\n",
    "np.add.at(node_degree, E, 1)\n",
    "node_degree = node_degree.tolist()\n",
    "print(f'{node_degree = }')"
   ]
  },
  {
   "cell_type": "markdown",
   "id": "4cb32952-b945-4141-b52e-f7703f2f4ba2",
   "metadata": {},
   "source": [
    "## Binarization of integer variables\n",
    "We revisit the binarization version of the Graph-Coloring model and make adjustments to avoid the symmetries.\n",
    "\n",
    "<font>__In the following cell, please define the binary variables__</font> $\\color{darkblue}x_{(v,c)}$ <font>__with the adjusted constraints on their color index subscripts:__</font>\n",
    "\n",
    "$$\\color{darkblue}x_{(v,c)}\\in\\{0,1\\},\\quad\\forall v\\in \\mathcal{V}, c\\in \\{0,\\dots,\\partial_{(v)}\\}$$"
   ]
  },
  {
   "cell_type": "code",
   "execution_count": null,
   "id": "26c1f5fe-faa2-4a56-b464-0030c237dbe8",
   "metadata": {},
   "outputs": [],
   "source": [
    "## YOUR CODE HERE ##\n"
   ]
  },
  {
   "cell_type": "markdown",
   "id": "5d932978-c2f3-4f7c-a4e0-fc60995f1aae",
   "metadata": {},
   "source": [
    "Since out of all available colors, each node takes one color only, the following set of constraints hold:\n",
    "$${\\color{darkblue}\\sum_{c\\in\\{0,\\dots,\\partial_{(v)}\\}}x_{(v,c)} = 1,\\quad\\forall v\\in \\mathcal{V}\\qquad\\qquad (*)}$$\n",
    "__Please introduce these constraints to the optimization model.__"
   ]
  },
  {
   "cell_type": "code",
   "execution_count": null,
   "id": "f710a4da-3f0e-4cd6-bcc3-23c5af7cec1d",
   "metadata": {},
   "outputs": [],
   "source": [
    "## YOUR CODE HERE ##\n"
   ]
  },
  {
   "cell_type": "markdown",
   "id": "9cd8c205-f3ac-47d9-b800-7d9f7fce9ec3",
   "metadata": {},
   "source": [
    "Two connecting nodes (neighboring countries) $u$ and $v$ must not receive the same color $c$ (at most either of $u$ and $v$ can take color $c$). __Please introduce the following constraints to the optimization model.__\n",
    "$$\\color{darkblue}x_{(u,c)} + x_{(v,c)} \\le 1,\\quad\\forall (u,v)\\in \\mathcal{E}, c\\in \\{0,\\dots,\\text{min}\\left(\\partial_{(u)},\\partial_{(v)}\\right)\\}$$"
   ]
  },
  {
   "cell_type": "code",
   "execution_count": null,
   "id": "b36560ed-9532-4c6b-a5a4-dd97a10a55eb",
   "metadata": {},
   "outputs": [],
   "source": [
    "## YOUR CODE HERE ##\n"
   ]
  },
  {
   "cell_type": "markdown",
   "id": "d9e3e53b-3a56-4fb2-8a05-cb783deb65c7",
   "metadata": {},
   "source": [
    "As a consequence of constraint set $(*)$, the color taken by a node $v$ is expressed as $$\\sum_{c\\in\\{0,\\dots,\\partial_{(v)}\\}}c\\cdot {\\color{blue}x_{(v,c)}}$$\n",
    "Hence, the big-M version of ${\\color{blue}x_\\textbf{MAX}} - {\\color{blue}x_{(v)}}\\ge 0$ is rewritten as $$\\color{darkblue}x_\\textbf{MAX} - \\sum_{c\\in \\{0,\\dots,\\partial_{(v)}\\}}c\\cdot x_{(v,c)}\\ge 0,\\qquad\\forall v\\in \\mathcal{V}$$\n",
    "\n",
    "__Please define the variable <font color='darkblue'>$x_\\textbf{MAX} \\in\\mathbb{R}$</font> and introduce the above set of constraints.__"
   ]
  },
  {
   "cell_type": "code",
   "execution_count": null,
   "id": "064819a8-1365-4fd5-af34-f6662b02ba71",
   "metadata": {},
   "outputs": [],
   "source": [
    "## YOUR CODE HERE ##\n"
   ]
  },
  {
   "cell_type": "markdown",
   "id": "5eff4cb4-d14d-4c70-bd65-8698b0f4ec07",
   "metadata": {},
   "source": [
    "__Please define the objective function.__\n",
    "$$\\color{darkblue}\\textbf{Minimize}\\qquad x_\\textbf{MAX}$$"
   ]
  },
  {
   "cell_type": "code",
   "execution_count": null,
   "id": "0f97baec-6cb9-4712-baf3-04d5e3b890c5",
   "metadata": {},
   "outputs": [],
   "source": [
    "## YOUR CODE HERE ##\n"
   ]
  },
  {
   "cell_type": "markdown",
   "id": "de8645bb-37df-47c2-9313-c6f3e378641d",
   "metadata": {},
   "source": [
    "## The overall Graph-Coloring ILP (binarization version with symmetry-breaking constraints)\n",
    "**Minimize**\n",
    "### $$\\color{blue}x_\\textbf{MAX}$$\n",
    "**Subject to**\n",
    "### \\begin{align*}\n",
    "\\sum_{c\\in\\{0,\\dots,\\partial_{(v)}\\}}{\\color{blue}x_{(v,c)}} &= 1,\\qquad&\\forall v\\in \\mathcal{V}\\\\\n",
    "{\\color{blue}x_{(u,c)}} + {\\color{blue}x_{(v,c)}} &\\le 1,\\qquad&\\forall (u,v)\\in \\mathcal{E}, c\\in \\{0,\\dots,\\text{min}\\left(\\partial_{(u)},\\partial_{(v)}\\right)\\}\\\\\n",
    "{\\color{blue}x_\\textbf{MAX}} - \\sum_{c\\in \\{0,\\dots,\\partial_{(v)}\\}}c\\cdot {\\color{blue}x_{(v)}}&\\ge 0,\\qquad&\\forall v\\in \\mathcal{V}\\\\\n",
    "{\\color{blue}x_{(v,c)}}&\\in\\{0,1\\},\\qquad& \\forall v\\in \\mathcal{V}, c\\in \\{0,\\dots,\\partial_{(v)}\\}\\\\\n",
    "{\\color{blue}x_\\textbf{MAX}}&\\in\\mathbb{R}\n",
    "\\end{align*}"
   ]
  },
  {
   "cell_type": "markdown",
   "id": "3c58a03d-d818-4065-aa5c-95606d1e0b25",
   "metadata": {},
   "source": [
    "## Summarize the model"
   ]
  },
  {
   "cell_type": "code",
   "execution_count": null,
   "id": "19ff5bac-3465-4e97-9a28-c1b2820bda78",
   "metadata": {},
   "outputs": [],
   "source": [
    "colr_ILP.print_information()"
   ]
  },
  {
   "cell_type": "markdown",
   "id": "a925664f-caf9-41fc-9adb-d50a962b6d93",
   "metadata": {},
   "source": [
    "## Set termination criteria (stop if either criterion is satisfied)\n",
    "- Solution time is not longer than 5 minutes.\n",
    "- Relative optimality gap (i.e., the gap between the tightest LP relaxed bound and the best integral solution found so far) is at most 2%."
   ]
  },
  {
   "cell_type": "code",
   "execution_count": null,
   "id": "5ae60fd6-4cad-4808-81f2-92d50fd8d0d3",
   "metadata": {},
   "outputs": [],
   "source": [
    "colr_ILP.set_time_limit(5*60) # 5 minutes\n",
    "_ = colr_ILP.parameters.mip.tolerances.mipgap.set(0.02)"
   ]
  },
  {
   "cell_type": "markdown",
   "id": "be6f2dd2-b787-429a-b303-5ead1c36b7f1",
   "metadata": {},
   "source": [
    "## Solve the ILP"
   ]
  },
  {
   "cell_type": "code",
   "execution_count": null,
   "id": "c3a787e1-6583-4d07-9144-dddbd4728410",
   "metadata": {},
   "outputs": [],
   "source": [
    "colr_sol = colr_ILP.solve(log_output=True)"
   ]
  },
  {
   "cell_type": "markdown",
   "id": "60fa407f-d552-4b3d-85d3-c228793b8cc7",
   "metadata": {},
   "source": [
    "## Display the result"
   ]
  },
  {
   "cell_type": "code",
   "execution_count": null,
   "id": "344fe706-d6c4-4ae6-8147-687fdcb8773f",
   "metadata": {},
   "outputs": [],
   "source": [
    "if colr_sol:\n",
    "    colr_sol.display()"
   ]
  }
 ],
 "metadata": {
  "kernelspec": {
   "display_name": "Python 3 (ipykernel)",
   "language": "python",
   "name": "python3"
  },
  "language_info": {
   "codemirror_mode": {
    "name": "ipython",
    "version": 3
   },
   "file_extension": ".py",
   "mimetype": "text/x-python",
   "name": "python",
   "nbconvert_exporter": "python",
   "pygments_lexer": "ipython3",
   "version": "3.11.8"
  }
 },
 "nbformat": 4,
 "nbformat_minor": 5
}
