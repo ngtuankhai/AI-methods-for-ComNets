{
 "cells": [
  {
   "cell_type": "markdown",
   "id": "bcd02098-ef62-449b-801d-307699c8ee1f",
   "metadata": {},
   "source": [
    "<font size=50 color=darkblue>Shortest Path ILP</font>"
   ]
  },
  {
   "cell_type": "markdown",
   "id": "89237b23-341d-43df-b1bc-c4b325609d6a",
   "metadata": {},
   "source": [
    "# Problem modelling with DOcplex"
   ]
  },
  {
   "cell_type": "markdown",
   "id": "cb6f3547-b20f-4f42-9926-5f42ce306bc0",
   "metadata": {},
   "source": [
    "## Import necessary modules\n",
    "\n",
    "- DOcplex will be used to model and solve the Shortest-Path ILP\n",
    "- Import module `itertools` to group links based on their tails/heads"
   ]
  },
  {
   "cell_type": "code",
   "execution_count": null,
   "id": "9437b159-b6a4-43bf-b40a-13968a86d097",
   "metadata": {},
   "outputs": [],
   "source": [
    "from docplex.mp.model import Model\n",
    "import itertools"
   ]
  },
  {
   "cell_type": "markdown",
   "id": "f1f96868-cf09-4a11-b9a5-55861b4c9a91",
   "metadata": {},
   "source": [
    "## Shortest-Path ILP <font size=3>(variables are colored blue)</font>\n",
    "**Minimize**\n",
    "### $$\\sum_{(u,v)\\in \\mathcal{E}}c_{(u,v)}\\cdot \\color{blue}x_{(u,v)}$$\n",
    "**Subject to**\n",
    "### \\begin{align*}\n",
    "{\\color{blue}x}_{({\\color{red}t},{\\color{green}s})} = 1\\,\\qquad&\\\\\n",
    "\\sum_{(u,v)\\in{\\color{red}\\delta}^{\\color{red}-}_{(v)}}{\\color{blue}x_{(u,v)}} - \\sum_{(v,u)\\in{\\color{green}\\delta}^{\\color{green}+}_{(v)}}{\\color{blue}x_{(v,u)}} = 0,\\qquad&\\forall v\\in \\mathcal{V}\\\\\n",
    "{\\color{blue}x_{(u,v)}}\\in\\left\\{0,1\\right\\},\\qquad&\\forall(u,v)\\in \\mathcal{E}\n",
    "\\end{align*}"
   ]
  },
  {
   "cell_type": "markdown",
   "id": "9fa15f40-0b4d-402c-a7f3-5babdb3cfa34",
   "metadata": {},
   "source": [
    "## Display the network\n",
    "<img src='img/sp.png' width=700/>"
   ]
  },
  {
   "cell_type": "markdown",
   "id": "5bb12f7d-7117-4360-a267-8ea3b1746ea4",
   "metadata": {},
   "source": [
    "## Define the model input\n",
    "### \\begin{align*}\n",
    "\\mathcal{V} =\\,& \\{0, 1, 2, 3, 4, 5, 6\\}&\\\\\n",
    "\\mathcal{E} =\\,& \\{(0,1), (0,2), (1,3), (1,4), (2,3), (2,5), (3,4), (3,5), (3,6), (4,6), (5,6)\\}&\\\\\n",
    "{\\color{green}s} =\\,& 0&\\\\\n",
    "{\\color{red}t} =\\,& 6&\n",
    "\\end{align*}"
   ]
  },
  {
   "cell_type": "code",
   "execution_count": null,
   "id": "b253df08-ff04-4584-9821-7f3377f22985",
   "metadata": {},
   "outputs": [],
   "source": [
    "V = [0, 1, 2, 3, 4, 5, 6]\n",
    "E = [(0,1), (0,2), (1,3), (1,4), (2,3), (2,5), (3,4), (3,5), (3,6), (4,6), (5,6)]\n",
    "s, t = 0, 6"
   ]
  },
  {
   "cell_type": "markdown",
   "id": "367e303a-b0e7-4125-8778-0060a170c4cc",
   "metadata": {},
   "source": [
    "## Augment the graph with the imaginary link (<font color='red'>t</font>, <font color='green'>s</font>)\n",
    "### $$\\mathcal{E}:=\\mathcal{E}\\cup \\{({\\color{red}t},{\\color{green}s})\\}$$"
   ]
  },
  {
   "cell_type": "code",
   "execution_count": null,
   "id": "dc9b77cc-70fa-4faf-b911-d0aefbf224f8",
   "metadata": {},
   "outputs": [],
   "source": [
    "E.append((t,s))"
   ]
  },
  {
   "cell_type": "markdown",
   "id": "cc3aa665-4fc7-4284-a6d9-908fba34c845",
   "metadata": {},
   "source": [
    "## Define in-links <code><font color='red'>delta_min</font></code> and out-links <code><font color='green'>delta_pls</font></code>, subscriptable by node indices\n",
    "### \\begin{align*}\n",
    "{\\color{red}\\delta}^{\\color{red}-}_{(v)} = \\{e\\in \\mathcal{E}\\,|&\\,\\text{head}(e)\\equiv v \\},&\\quad\\forall v\\in \\mathcal{V}\\\\\n",
    "{\\color{green}\\delta}^{\\color{green}+}_{(v)} = \\{e\\in \\mathcal{E}\\,|&\\,\\text{tail}(e)\\equiv v \\},&\\quad\\forall v\\in \\mathcal{V}\\\\\n",
    "\\end{align*}"
   ]
  },
  {
   "cell_type": "code",
   "execution_count": null,
   "id": "633d8fa2-9e62-45f7-a1d3-fbb649c5649e",
   "metadata": {},
   "outputs": [],
   "source": [
    "# Anonymous functions\n",
    "head = lambda e: e[1]\n",
    "tail = lambda e: e[0]\n",
    "delta_min = {v: set(delt_min) for v, delt_min in itertools.groupby(sorted(E, key=head), head)}\n",
    "delta_pls = {v: set(delt_pls) for v, delt_pls in itertools.groupby(sorted(E, key=tail), tail)}"
   ]
  },
  {
   "cell_type": "markdown",
   "id": "224334ff-8898-4ef1-aff4-9865e67b3be7",
   "metadata": {},
   "source": [
    "## Define link costs $c_{(e)},\\,\\forall e\\in \\mathcal{E}$, subscriptable by link indices <font size=3>\n",
    "### (Note that the cost of the imaginary link (<font color=red>t</font>,<font color=green>s</font>) is 0)</font>"
   ]
  },
  {
   "cell_type": "code",
   "execution_count": null,
   "id": "bd9059d5-1ce0-4737-9be2-c04703e726be",
   "metadata": {},
   "outputs": [],
   "source": [
    "c = dict(zip(E, [15, 20, 10, 25, 15, 20, 20, 15, 30, 10, 20, 0]))"
   ]
  },
  {
   "cell_type": "markdown",
   "id": "5b931892-cbe4-481f-b899-3bf30dd36cd9",
   "metadata": {},
   "source": [
    "## Create the ILP model for Shortest-Path problem using DOcplex"
   ]
  },
  {
   "cell_type": "code",
   "execution_count": null,
   "id": "0693b03b-2054-42ff-a327-9dcd5d6b3611",
   "metadata": {},
   "outputs": [],
   "source": [
    "sp_ILP = Model(name='Shortest Path')"
   ]
  },
  {
   "cell_type": "markdown",
   "id": "a8ba6f30-de05-4f39-834d-06b0fd575d46",
   "metadata": {},
   "source": [
    "## Define decision variables as binaries: ${\\color{blue}x_{(e)}}\\in \\{0,1\\},\\quad\\forall e\\in \\mathcal{E}$"
   ]
  },
  {
   "cell_type": "code",
   "execution_count": null,
   "id": "f186b0d8-1e0c-49cc-9006-dba2c62a4ea0",
   "metadata": {},
   "outputs": [],
   "source": [
    "sp_ILP.clear() # This line is optional. Its purpose is to avoid variable duplicates\n",
    "x = {(u,v): sp_ILP.binary_var(name=f'x({u},{v})') for u,v in E}"
   ]
  },
  {
   "cell_type": "markdown",
   "id": "85c7bdf3-fe1e-42be-86ec-b0e060c405f9",
   "metadata": {},
   "source": [
    "## Define demand satisfaction constraint $${\\color{blue}x}_{({\\color{red}t},{\\color{green}s})} = 1\\qquad$$"
   ]
  },
  {
   "cell_type": "code",
   "execution_count": null,
   "id": "7b67aabb-278e-484d-b013-8af8fc55e3fe",
   "metadata": {},
   "outputs": [],
   "source": [
    "demand_sat_ct = sp_ILP.add_constraint(ct=x[t,s]==1, ctname=f'demand_satisfaction')"
   ]
  },
  {
   "cell_type": "markdown",
   "id": "4fb44275-bfb2-4854-9044-8195d6353c51",
   "metadata": {},
   "source": [
    "## Define flow conservation constraints, subscriptable by node indices $$\\sum_{(u,v)\\in{\\color{red}\\delta}^{{\\color{red}-}}_{(v)}}{\\color{blue}x_{(u,v)}} - \\sum_{(v,u)\\in{\\color{green}\\delta}^{{\\color{green}+}}_{(v)}}{\\color{blue}x_{(v,u)}} = 0,\\quad\\forall v\\in \\mathcal{V}$$"
   ]
  },
  {
   "cell_type": "code",
   "execution_count": null,
   "id": "34d9655a-e29f-42ff-bdcd-0f4e7dd3ea85",
   "metadata": {},
   "outputs": [],
   "source": [
    "flow_conserv_ct = {v: sp_ILP.add_constraint(ct=sp_ILP.sum(x[e] for e in delta_min[v]) - sp_ILP.sum(x[e] for e in delta_pls[v]) == 0,\n",
    "                                            ctname=f'flow_conservation({v})') for v in V}"
   ]
  },
  {
   "cell_type": "markdown",
   "id": "e5e088c1-62ab-4f4d-9fbb-798287546814",
   "metadata": {},
   "source": [
    "## Define objective function $$\\textbf{minimize}\\qquad \\sum_{(u,v)\\in \\mathcal{E}}c_{(u,v)}\\cdot \\color{blue}x_{(u,v)}$$"
   ]
  },
  {
   "cell_type": "code",
   "execution_count": null,
   "id": "3a1f3939-b846-4b2b-aeed-feb46df634c2",
   "metadata": {},
   "outputs": [],
   "source": [
    "sp_ILP.minimize(sp_ILP.sum(c[e]*x[e] for e in E))"
   ]
  },
  {
   "cell_type": "markdown",
   "id": "1dab60b5-991f-4438-9ca7-046ea32476a4",
   "metadata": {},
   "source": [
    "## Summarize the model"
   ]
  },
  {
   "cell_type": "code",
   "execution_count": null,
   "id": "eb4c8a3a-76ae-4423-9a57-487295283fa3",
   "metadata": {},
   "outputs": [],
   "source": [
    "sp_ILP.print_information()"
   ]
  },
  {
   "cell_type": "markdown",
   "id": "4ec99a85-bfa8-4a7b-b134-f72d88d0a980",
   "metadata": {},
   "source": [
    "## Solve the ILP and display the result"
   ]
  },
  {
   "cell_type": "code",
   "execution_count": null,
   "id": "9ef39774-1fd0-4956-aaad-68f68c150e8b",
   "metadata": {},
   "outputs": [],
   "source": [
    "sp_sol = sp_ILP.solve()\n",
    "if sp_sol:\n",
    "    sp_sol.display()"
   ]
  },
  {
   "cell_type": "markdown",
   "id": "f0cb394f-80d1-4b20-8ddd-02d446415532",
   "metadata": {},
   "source": [
    "# Result Visualization"
   ]
  },
  {
   "cell_type": "markdown",
   "id": "ea46a7b9-5891-4ab8-9205-d0380d182d1f",
   "metadata": {},
   "source": [
    "## Import visualization modules\n",
    "- `igraph`, `matplotlib`"
   ]
  },
  {
   "cell_type": "code",
   "execution_count": null,
   "id": "5187f0b3-c917-4e82-a45a-5c08a1162864",
   "metadata": {},
   "outputs": [],
   "source": [
    "import igraph as ig\n",
    "import matplotlib.pyplot as plt"
   ]
  },
  {
   "cell_type": "markdown",
   "id": "63125697-7e2c-4a41-89a0-a8ab0f582597",
   "metadata": {},
   "source": [
    "## For convenience, extract the solution to a dictionary named `sol_x`"
   ]
  },
  {
   "cell_type": "code",
   "execution_count": null,
   "id": "2895c34c-51c1-4646-95ba-45d269ed74a8",
   "metadata": {},
   "outputs": [],
   "source": [
    "sol_x = sp_sol.get_value_dict(x)\n",
    "sol_x"
   ]
  },
  {
   "cell_type": "markdown",
   "id": "4cb5b7d5-4c1e-41e1-ad08-76f0d2965e5b",
   "metadata": {},
   "source": [
    "## Since the link (<font color='red'>t</font>, <font color='green'>s</font>) is imaginary, remove it from the link list `E`"
   ]
  },
  {
   "cell_type": "code",
   "execution_count": null,
   "id": "bffe02d4-f50c-426f-8978-20c39ebbf23b",
   "metadata": {},
   "outputs": [],
   "source": [
    "E.remove((t,s))"
   ]
  },
  {
   "cell_type": "markdown",
   "id": "15622c8a-e285-42a5-8ad7-c4801628cb49",
   "metadata": {},
   "source": [
    "## Instantiate a `Graph` object with module `igraph`\n",
    "### Notes\n",
    "- __*Node(s)*__ is/are called __*vertex/vertices*__ in `igraph`\n",
    "- __*Link(s)*__ is/are called __*edge/edges*__ in `igraph`\n",
    "- The edge list is sufficient to instantiate a `Graph` object. The vertex list is automatically inferred by `igraph` (based on the tails/heads' indices)."
   ]
  },
  {
   "cell_type": "code",
   "execution_count": null,
   "id": "fe3047e5-f0a5-4081-b77f-d62d16656d13",
   "metadata": {},
   "outputs": [],
   "source": [
    "g = ig.Graph(edges=E, directed=True)"
   ]
  },
  {
   "cell_type": "markdown",
   "id": "36e2bf6c-6e3a-4a16-897f-d45bc4aa4076",
   "metadata": {},
   "source": [
    "## Visualize the graph"
   ]
  },
  {
   "cell_type": "code",
   "execution_count": null,
   "id": "927353e5-e1d0-497d-b561-e193b08fac13",
   "metadata": {},
   "outputs": [],
   "source": [
    "g.vs['label'] = g.vs.indices\n",
    "g.vs['size'] = 50\n",
    "g.vs['color'] = 'white'\n",
    "g.vs[s,t]['color'] = 'green', 'red'\n",
    "\n",
    "lnk_flow_max = max(sol_x.values())\n",
    "g.es['label'] = [c[e] for e in E]\n",
    "g.es['arrow_size'] = [10 if sol_x[e] > 0 else 6 for e in E]\n",
    "g.es['arrow_width'] = [10 if sol_x[e] > 0 else None for e in E]\n",
    "g.es['width'] = [5 if sol_x[e] > 0 else 0.5 for e in E]\n",
    "g.es['color'] = ['darkblue' if sol_x[e] > 0 else None for e in E]\n",
    "g.es['label_size'] = 15\n",
    "\n",
    "fig, ax = plt.subplots()\n",
    "fig.set_size_inches(10,10)\n",
    "\n",
    "p = ig.plot(g, layout=g.layout('kk'), edge_label=g.es['label'], edge_background='white', target=ax)\n",
    "    \n",
    "plt.show()"
   ]
  }
 ],
 "metadata": {
  "kernelspec": {
   "display_name": "Python 3 (ipykernel)",
   "language": "python",
   "name": "python3"
  },
  "language_info": {
   "codemirror_mode": {
    "name": "ipython",
    "version": 3
   },
   "file_extension": ".py",
   "mimetype": "text/x-python",
   "name": "python",
   "nbconvert_exporter": "python",
   "pygments_lexer": "ipython3",
   "version": "3.11.8"
  }
 },
 "nbformat": 4,
 "nbformat_minor": 5
}
