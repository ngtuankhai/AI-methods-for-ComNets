{
 "cells": [
  {
   "cell_type": "markdown",
   "id": "d47bb8b0-549e-4d90-a6f4-ccccdebf03d4",
   "metadata": {},
   "source": [
    "<font size=50 color=darkblue>Shortest Path ILP</font>"
   ]
  },
  {
   "cell_type": "markdown",
   "id": "4f68e538-b5f3-4d8d-ae11-96b325bf9c77",
   "metadata": {},
   "source": [
    "# Problem modelling in LP format"
   ]
  },
  {
   "cell_type": "markdown",
   "id": "e9e49b52-4e62-453d-8d2a-65b518e563c6",
   "metadata": {},
   "source": [
    "## Import necessary modules\n",
    "- Import function `read_model` from DOcplex to read the Shortest-Path ILP from a temporary file\n",
    "- Module `tempfile` is imported to create the temporary file\n",
    "- Import function `remove` to delete the temporary file after reading it (required for python version < 3.12)"
   ]
  },
  {
   "cell_type": "code",
   "execution_count": null,
   "id": "3144f596-7528-4aaf-bcfc-cf5cb347c768",
   "metadata": {},
   "outputs": [],
   "source": [
    "from docplex.mp.model_reader import read_model\n",
    "import tempfile\n",
    "from os import remove"
   ]
  },
  {
   "cell_type": "markdown",
   "id": "f7743970-efec-4627-9c48-d5d89effbd14",
   "metadata": {},
   "source": [
    "## Shortest-Path ILP <font size=3>(variables are colored blue)</font>\n",
    "**Minimize**\n",
    "### $$\\sum_{(u,v)\\in \\mathcal{E}}c_{(u,v)}\\cdot \\color{blue}x_{(u,v)}$$\n",
    "**Subject to**\n",
    "### \\begin{align*}\n",
    "{\\color{blue}x}_{({\\color{red}t},{\\color{green}s})} = 1\\,\\qquad&\\\\\n",
    "\\sum_{(u,v)\\in{\\color{red}\\delta}^{\\color{red}-}_{(v)}}{\\color{blue}x_{(u,v)}} - \\sum_{(v,u)\\in{\\color{green}\\delta}^{\\color{green}+}_{(v)}}{\\color{blue}x_{(v,u)}} = 0,\\qquad&\\forall v\\in \\mathcal{V}\\\\\n",
    "{\\color{blue}x_{(u,v)}}\\in\\left\\{0,1\\right\\},\\qquad&\\forall(u,v)\\in \\mathcal{E}\n",
    "\\end{align*}"
   ]
  },
  {
   "cell_type": "markdown",
   "id": "8d2c5454-b6de-46ca-852a-ad657ddc1481",
   "metadata": {},
   "source": [
    "## Display the network\n",
    "<img src='img/sp.png' width=700/>"
   ]
  },
  {
   "cell_type": "markdown",
   "id": "66f14661-264a-44d0-b1a8-a1740ccb68d3",
   "metadata": {},
   "source": [
    "## Write the Shortest-Path ILP model (in LP format), which is assigned to the variable `sp_str`\n",
    "### Note\n",
    "- Binary variables are declared in the `Binaries` section. No bound declarations for binary variables are necessary."
   ]
  },
  {
   "cell_type": "code",
   "execution_count": null,
   "id": "66add45e-7358-48c6-b774-ee75922d20fc",
   "metadata": {},
   "outputs": [],
   "source": [
    "sp_str = '''\n",
    "Minimize\n",
    " obj: 15 x(0,1) + 20 x(0,2) + 10 x(1,3) + 25 x(1,4) + 15 x(2,3) + 20 x(2,5)\n",
    "      + 20 x(3,4) + 15 x(3,5) + 30 x(3,6) + 10 x(4,6) + 20 x(5,6)\n",
    "      \n",
    "Subject To\n",
    " demand_satisfaction: x(6,0) = 1\n",
    " flow_conservation(0): x(6,0) - x(0,1) - x(0,2) = 0\n",
    " flow_conservation(1): x(0,1) - x(1,3) - x(1,4) = 0\n",
    " flow_conservation(2): x(0,2) - x(2,3) - x(2,5) = 0\n",
    " flow_conservation(3): x(1,3) + x(2,3) - x(3,4) - x(3,5) - x(3,6) = 0\n",
    " flow_conservation(4): x(1,4) + x(3,4) - x(4,6) = 0\n",
    " flow_conservation(5): x(2,5) + x(3,5) - x(5,6) = 0\n",
    " flow_conservation(6): x(3,6) + x(4,6) + x(5,6) - x(6,0) = 0\n",
    "\n",
    "Binaries\n",
    " x(0,1) x(0,2) x(1,3) x(1,4) x(2,3) x(2,5) x(3,4) x(3,5) x(3,6) x(4,6) x(5,6) x(6,0)\n",
    "\n",
    "End\n",
    "'''"
   ]
  },
  {
   "cell_type": "markdown",
   "id": "e0b3fc03-b731-4b22-80c6-565cf9129b40",
   "metadata": {},
   "source": [
    "## To import the ILP model to DOcplex\n",
    "- Store the model to a temporary file\n",
    "- Have DOcplex read the model from the temporary file"
   ]
  },
  {
   "cell_type": "code",
   "execution_count": null,
   "id": "195a05ba-e4ab-41f8-993e-a2f2daae8ef9",
   "metadata": {},
   "outputs": [],
   "source": [
    "# Store string to tmp file\n",
    "with tempfile.TemporaryFile(delete=False) as tmp:\n",
    "    tmp.write(sp_str.encode('utf-8'))\n",
    "    tmp.close()\n",
    "    # Have DOcplex read the string\n",
    "    sp_ILP = read_model(filename=tmp.name, model_name='Shortest Path')\n",
    "    # Delete the temporary file\n",
    "    remove(tmp.name)"
   ]
  },
  {
   "cell_type": "markdown",
   "id": "97f349f3-052f-4410-878f-99b25c48267c",
   "metadata": {},
   "source": [
    "## Summarize the model"
   ]
  },
  {
   "cell_type": "code",
   "execution_count": null,
   "id": "4a449838-069f-40e5-ab89-35448b952f20",
   "metadata": {},
   "outputs": [],
   "source": [
    "sp_ILP.print_information()"
   ]
  },
  {
   "cell_type": "markdown",
   "id": "0bcbe9d9-bb97-4d6f-92f5-04eaf828c741",
   "metadata": {},
   "source": [
    "## Solve the ILP and display the result"
   ]
  },
  {
   "cell_type": "code",
   "execution_count": null,
   "id": "0e58f4c9-fac5-4285-8e7d-1cc5e25a7e5b",
   "metadata": {},
   "outputs": [],
   "source": [
    "sp_sol = sp_ILP.solve()\n",
    "if sp_sol:\n",
    "    sp_sol.display()"
   ]
  },
  {
   "cell_type": "markdown",
   "id": "cd0d73b0-d00c-4e19-a546-242e464190f2",
   "metadata": {},
   "source": [
    "# Result Visualization"
   ]
  },
  {
   "cell_type": "markdown",
   "id": "07bec5eb-3cc0-4fef-bb61-20edb0a25eef",
   "metadata": {},
   "source": [
    "## Import visualization modules\n",
    "- `igraph`, `matplotlib`, `re`"
   ]
  },
  {
   "cell_type": "code",
   "execution_count": null,
   "id": "c940ed17-f606-43c2-ab26-a26b7824055b",
   "metadata": {},
   "outputs": [],
   "source": [
    "import igraph as ig\n",
    "import matplotlib.pyplot as plt\n",
    "import re"
   ]
  },
  {
   "cell_type": "markdown",
   "id": "c04d8d5b-ea55-45fc-83b1-31307151a998",
   "metadata": {},
   "source": [
    "## Extract the link list `E`, link costs `c`, source <code><font color='green'>s</font></code>, and sink <code><font color='red'>t</font></code> from the ILP model"
   ]
  },
  {
   "cell_type": "code",
   "execution_count": null,
   "id": "04c7fceb-a514-4d88-bc98-3d2ab096d6e3",
   "metadata": {},
   "outputs": [],
   "source": [
    "E, c = [], {}\n",
    "\n",
    "for var in sp_ILP.iter_variables():\n",
    "    u, v = re.findall('x\\((.+),(.+)\\)', var.name)[0]\n",
    "    E.append(e:=(int(u), int(v)))\n",
    "    c[e] = sp_ILP.objective_expr.get_coef(var)\n",
    "\n",
    "t,s = re.findall('x\\((.+),(.+)\\)', str(sp_ILP.get_constraint_by_name('demand_satisfaction').get_left_expr()))[0]\n",
    "s, t = int(s), int(t)"
   ]
  },
  {
   "cell_type": "markdown",
   "id": "925b6df5-9cdd-4b73-b491-86db240098fe",
   "metadata": {},
   "source": [
    "## Since the link (<font color='red'>t</font>, <font color='green'>s</font>) is imaginary, remove it from the link list `E`"
   ]
  },
  {
   "cell_type": "code",
   "execution_count": null,
   "id": "309029e0-e42f-4ea4-9f23-d9e4042ffd60",
   "metadata": {},
   "outputs": [],
   "source": [
    "E.remove((t,s))"
   ]
  },
  {
   "cell_type": "markdown",
   "id": "ffe6fd92-ef65-48ac-8663-3b704e99ce07",
   "metadata": {},
   "source": [
    "## For convenience, extract the solution to a dictionary named `sol_x`"
   ]
  },
  {
   "cell_type": "code",
   "execution_count": null,
   "id": "32392fae-65cd-4515-803e-9bbad9511fe1",
   "metadata": {},
   "outputs": [],
   "source": [
    "sol_x = {(u,v): sp_sol.get_value(f'x({u},{v})') for u,v in E}\n",
    "sol_x"
   ]
  },
  {
   "cell_type": "markdown",
   "id": "02683617-423a-45ac-9a49-e9fab4359365",
   "metadata": {},
   "source": [
    "## Instantiate a `Graph` object with module `igraph`\n",
    "### Notes\n",
    "- __*Node(s)*__ is/are called __*vertex/vertices*__ in `igraph`\n",
    "- __*Link(s)*__ is/are called __*edge/edges*__ in `igraph`\n",
    "- The edge list is sufficient to instantiate a `Graph` object. The vertex list is automatically inferred by `igraph` (based on the tails/heads' indices)."
   ]
  },
  {
   "cell_type": "code",
   "execution_count": null,
   "id": "6518181e-876a-45c9-a71e-040d9c663956",
   "metadata": {},
   "outputs": [],
   "source": [
    "g = ig.Graph(edges=E, directed=True)"
   ]
  },
  {
   "cell_type": "markdown",
   "id": "53017cd3-e902-49b7-ac0d-c428da208f7d",
   "metadata": {},
   "source": [
    "## Visualize the graph"
   ]
  },
  {
   "cell_type": "code",
   "execution_count": null,
   "id": "53386d79-bc92-4d5a-8d26-b177235c79cf",
   "metadata": {},
   "outputs": [],
   "source": [
    "g.vs['label'] = g.vs.indices\n",
    "g.vs['size'] = 50\n",
    "g.vs['color'] = 'white'\n",
    "g.vs[s,t]['color'] = 'green', 'red'\n",
    "\n",
    "lnk_flow_max = max(sol_x.values())\n",
    "g.es['label'] = [c[e] for e in E]\n",
    "g.es['arrow_size'] = [10 if sol_x[e] > 0 else 6 for e in E]\n",
    "g.es['arrow_width'] = [10 if sol_x[e] > 0 else None for e in E]\n",
    "g.es['width'] = [5 if sol_x[e] > 0 else 0.5 for e in E]\n",
    "g.es['color'] = ['darkblue' if sol_x[e] > 0 else None for e in E]\n",
    "g.es['label_size'] = 15\n",
    "\n",
    "fig, ax = plt.subplots()\n",
    "fig.set_size_inches(10,10)\n",
    "\n",
    "p = ig.plot(g, layout=g.layout('kk'), edge_label=g.es['label'], edge_background='white', target=ax)\n",
    "    \n",
    "plt.show()"
   ]
  }
 ],
 "metadata": {
  "kernelspec": {
   "display_name": "Python 3 (ipykernel)",
   "language": "python",
   "name": "python3"
  },
  "language_info": {
   "codemirror_mode": {
    "name": "ipython",
    "version": 3
   },
   "file_extension": ".py",
   "mimetype": "text/x-python",
   "name": "python",
   "nbconvert_exporter": "python",
   "pygments_lexer": "ipython3",
   "version": "3.11.8"
  }
 },
 "nbformat": 4,
 "nbformat_minor": 5
}
