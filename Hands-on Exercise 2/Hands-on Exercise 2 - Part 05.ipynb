{
 "cells": [
  {
   "cell_type": "markdown",
   "id": "62fbd39f-b5ba-434b-ad19-a4f239114cb1",
   "metadata": {},
   "source": [
    "<font size=50 color=darkblue>Knapsack ILP</font>"
   ]
  },
  {
   "cell_type": "markdown",
   "id": "a1824635-5c5b-45f8-a3bb-5cfd5f89b0a4",
   "metadata": {},
   "source": [
    "# Problem modelling in LP format"
   ]
  },
  {
   "cell_type": "markdown",
   "id": "2dff6676-bc26-49c2-a4b7-833d9a6fd920",
   "metadata": {},
   "source": [
    "## Import necessary modules\n",
    "- Import function `read_model` from DOcplex to read the Knapsack ILP from a temporary file\n",
    "- Module `tempfile` is imported to create the temporary file\n",
    "- Import function `remove` to delete the temporary file after reading it (required for python version < 3.12)"
   ]
  },
  {
   "cell_type": "code",
   "execution_count": null,
   "id": "2b176c9d-cc18-4ed4-983e-b52a58af1768",
   "metadata": {},
   "outputs": [],
   "source": [
    "from docplex.mp.model_reader import read_model\n",
    "import tempfile\n",
    "from os import remove"
   ]
  },
  {
   "cell_type": "markdown",
   "id": "2670f81b-ee38-4c4c-bb9e-dd85b38afa96",
   "metadata": {},
   "source": [
    "## Knapsack ILP <font size=3>(variables are colored blue)</font>\n",
    "**Maximize**\n",
    "### $$\\sum_{i\\in I}v_{(i)}\\cdot \\color{blue}x_{(i)}$$\n",
    "**Subject to**\n",
    "### \\begin{align*}\n",
    "\\sum_{i\\in I}w_{(i)}\\cdot {\\color{blue}x_{(i)}}\\le&\\, K\\\\\n",
    "{\\color{blue}x_{(i)}}\\in&\\,\\{0,1\\},\\quad&\\forall i\\in I\n",
    "\\end{align*}"
   ]
  },
  {
   "cell_type": "markdown",
   "id": "2ec4cafa-586c-4bec-b0b3-c8d8cfa75616",
   "metadata": {},
   "source": [
    "## Write the Knapsack ILP model (in LP format), which is assigned to the variable `ks_str`"
   ]
  },
  {
   "cell_type": "code",
   "execution_count": null,
   "id": "01f2db17-198d-4559-822e-ce9ef0ac4715",
   "metadata": {},
   "outputs": [],
   "source": [
    "ks_str = '''\n",
    "Maximize\n",
    " obj: 45 x(1) + 48 x(2) + 35 x(3)\n",
    "\n",
    "Subject To\n",
    " capacity_constraint: 5 x(1) + 8 x(2) + 3 x(3) <= 10\n",
    "\n",
    "Binaries\n",
    " x(1) x(2) x(3)\n",
    " \n",
    "End\n",
    "'''"
   ]
  },
  {
   "cell_type": "markdown",
   "id": "784c9ae9-67ff-41ac-a986-1d15f34a1396",
   "metadata": {},
   "source": [
    "## To import the ILP model to DOcplex\n",
    "- Store the model to a temporary file\n",
    "- Have DOcplex read the model from the temporary file"
   ]
  },
  {
   "cell_type": "code",
   "execution_count": null,
   "id": "62ffa7f0-4e5c-4bc1-be24-a247637a56ca",
   "metadata": {},
   "outputs": [],
   "source": [
    "# Store string to tmp file\n",
    "with tempfile.TemporaryFile(delete=False) as tmp:\n",
    "    tmp.write(ks_str.encode('utf-8'))\n",
    "    tmp.close()\n",
    "    # Have DOcplex read the string\n",
    "    ks_ILP = read_model(filename=tmp.name, model_name='Knapsack')\n",
    "    # Delete the temporary file\n",
    "    remove(tmp.name)"
   ]
  },
  {
   "cell_type": "markdown",
   "id": "889b0128-fa70-436c-bb31-b2595e8f1083",
   "metadata": {},
   "source": [
    "## Summarize the model"
   ]
  },
  {
   "cell_type": "code",
   "execution_count": null,
   "id": "b23ae67d-1ccb-489b-80c1-418d0c14272d",
   "metadata": {},
   "outputs": [],
   "source": [
    "ks_ILP.print_information()"
   ]
  },
  {
   "cell_type": "code",
   "execution_count": null,
   "id": "98c3cbee-69a2-4ec1-8333-f375b9456b85",
   "metadata": {},
   "outputs": [],
   "source": [
    "sol = ks_ILP.solve()"
   ]
  },
  {
   "cell_type": "code",
   "execution_count": null,
   "id": "78634fda-b356-41ef-9dc2-0b56aec72756",
   "metadata": {},
   "outputs": [],
   "source": [
    "sol.display()"
   ]
  }
 ],
 "metadata": {
  "kernelspec": {
   "display_name": "Python 3 (ipykernel)",
   "language": "python",
   "name": "python3"
  },
  "language_info": {
   "codemirror_mode": {
    "name": "ipython",
    "version": 3
   },
   "file_extension": ".py",
   "mimetype": "text/x-python",
   "name": "python",
   "nbconvert_exporter": "python",
   "pygments_lexer": "ipython3",
   "version": "3.11.8"
  }
 },
 "nbformat": 4,
 "nbformat_minor": 5
}
