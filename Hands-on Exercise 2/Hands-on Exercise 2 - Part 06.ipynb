{
 "cells": [
  {
   "cell_type": "markdown",
   "id": "f58dc433-e952-4cc2-97ef-084b64466f8c",
   "metadata": {},
   "source": [
    "<font size=50 color=darkblue>Map Coloring using Big-M Transformation</font>"
   ]
  },
  {
   "cell_type": "markdown",
   "id": "e3994d83-539b-4dce-9878-4be72b788910",
   "metadata": {},
   "source": [
    "# Problem modelling in LP format"
   ]
  },
  {
   "cell_type": "markdown",
   "id": "e5208997-f543-4466-b00d-1b94043c3733",
   "metadata": {},
   "source": [
    "## Import necessary modules\n",
    "- Import function `read_model` from DOcplex to read the Map-Coloring MILP from a temporary file\n",
    "- Module `tempfile` is imported to create the temporary file\n",
    "- Import function `remove` to delete the temporary file after reading it (required for python version < 3.12)"
   ]
  },
  {
   "cell_type": "code",
   "execution_count": null,
   "id": "b6ab56f9-fedd-4dcd-bcdb-ff6aee9ac830",
   "metadata": {},
   "outputs": [],
   "source": [
    "from docplex.mp.model_reader import read_model\n",
    "import tempfile\n",
    "from os import remove"
   ]
  },
  {
   "cell_type": "markdown",
   "id": "de8645bb-37df-47c2-9313-c6f3e378641d",
   "metadata": {},
   "source": [
    "## Map-Coloring MILP using Big-M Transformation <font size=3>(variables are colored blue)</font>\n",
    "**Minimize**\n",
    "### $$\\color{blue}x_\\textbf{MAX}$$\n",
    "**Subject to**\n",
    "### \\begin{align*}\n",
    "{\\color{blue}x_\\textbf{MAX}} - {\\color{blue}x_{(v)}}&\\ge 0,\\qquad&\\forall v\\in \\mathcal{V}\\\\\n",
    "({\\color{blue}x_{(u)}} - {\\color{blue}x_{(v)}} + M {\\color{blue}t_{(u,v)}}&\\ge 1) \\wedge ({\\color{blue}x_{(v)}} - {\\color{blue}x_{(u)}} - M {\\color{blue}t_{(u,v)}}\\ge 1 - M),\\qquad&\\forall (u,v)\\in \\mathcal{E}\\\\\n",
    "{\\color{blue}x_{(v)}}&\\in \\{0,...,3\\},\\qquad&\\forall v\\in \\mathcal{V}\\\\\n",
    "{\\color{blue}t_{(u,v)}}&\\in \\{0,1\\},\\qquad&\\forall (u,v)\\in \\mathcal{E}\\\\\n",
    "{\\color{blue}x_\\textbf{MAX}}&\\in\\mathbb{R}\n",
    "\\end{align*}"
   ]
  },
  {
   "cell_type": "markdown",
   "id": "a632e057-b09a-4b56-9260-4c3dcf6c332f",
   "metadata": {},
   "source": [
    "## Write the Map-Coloring MILP model (in LP format), which is assigned to the variable `colr_str`\n",
    "### Notes\n",
    "- The big-M parameter $M$ here is set to 1000.\n",
    "- Integer variables are declared in section `Generals` in the LP format"
   ]
  },
  {
   "cell_type": "code",
   "execution_count": null,
   "id": "c9a4f2b4-2feb-438f-a562-f24c96a82308",
   "metadata": {},
   "outputs": [],
   "source": [
    "colr_str = '''\n",
    "Minimize\n",
    " obj: xMAX\n",
    " \n",
    "Subject To\n",
    " xMAX(Belgium)     : xMAX - x(Belgium)     >= 0\n",
    " xMAX(Denmark)     : xMAX - x(Denmark)     >= 0\n",
    " xMAX(France)      : xMAX - x(France)      >= 0\n",
    " xMAX(Germany)     : xMAX - x(Germany)     >= 0\n",
    " xMAX(Luxembourg)  : xMAX - x(Luxembourg)  >= 0\n",
    " xMAX(Netherlands) : xMAX - x(Netherlands) >= 0\n",
    " dis_colr_a(Germany,Belgium)     : x(Germany)     - x(Belgium)     + 1000 t(Germany,Belgium)     >= 1\n",
    " dis_colr_b(Germany,Belgium)     : x(Belgium)     - x(Germany)     - 1000 t(Germany,Belgium)     >= -999\n",
    " dis_colr_a(Germany,Denmark)     : x(Germany)     - x(Denmark)     + 1000 t(Germany,Denmark)     >= 1\n",
    " dis_colr_b(Germany,Denmark)     : x(Denmark)     - x(Germany)     - 1000 t(Germany,Denmark)     >= -999\n",
    " dis_colr_a(Germany,France)      : x(Germany)     - x(France)      + 1000 t(Germany,France)      >= 1\n",
    " dis_colr_b(Germany,France)      : x(France)      - x(Germany)     - 1000 t(Germany,France)      >= -999\n",
    " dis_colr_a(Germany,Netherlands) : x(Germany)     - x(Netherlands) + 1000 t(Germany,Netherlands) >= 1\n",
    " dis_colr_b(Germany,Netherlands) : x(Netherlands) - x(Germany)     - 1000 t(Germany,Netherlands) >= -999\n",
    " dis_colr_a(Germany,Luxembourg)  : x(Germany)     - x(Luxembourg)  + 1000 t(Germany,Luxembourg)  >= 1\n",
    " dis_colr_b(Germany,Luxembourg)  : x(Luxembourg)  - x(Germany)     - 1000 t(Germany,Luxembourg)  >= -999\n",
    " dis_colr_a(Belgium,France)      : x(Belgium)     - x(France)      + 1000 t(Belgium,France)      >= 1\n",
    " dis_colr_b(Belgium,France)      : x(France)      - x(Belgium)     - 1000 t(Belgium,France)      >= -999\n",
    " dis_colr_a(Belgium,Netherlands) : x(Belgium)     - x(Netherlands) + 1000 t(Belgium,Netherlands) >= 1\n",
    " dis_colr_b(Belgium,Netherlands) : x(Netherlands) - x(Belgium)     - 1000 t(Belgium,Netherlands) >= -999\n",
    " dis_colr_a(Belgium,Luxembourg)  : x(Belgium)     - x(Luxembourg)  + 1000 t(Belgium,Luxembourg)  >= 1\n",
    " dis_colr_b(Belgium,Luxembourg)  : x(Luxembourg)  - x(Belgium)     - 1000 t(Belgium,Luxembourg)  >= -999\n",
    " dis_colr_a(France,Luxembourg)   : x(France)      - x(Luxembourg)  + 1000 t(France,Luxembourg)   >= 1\n",
    " dis_colr_b(France,Luxembourg)   : x(Luxembourg)  - x(France)      - 1000 t(France,Luxembourg)   >= -999\n",
    "\n",
    "Bounds\n",
    " x(Belgium) <= 3\n",
    " x(Denmark) <= 3\n",
    " x(France) <= 3\n",
    " x(Germany) <= 3\n",
    " x(Luxembourg) <= 3\n",
    " x(Netherlands) <= 3\n",
    "\n",
    "Binaries\n",
    " t(Germany,Belgium) t(Germany,Denmark) t(Germany,France) t(Germany,Netherlands)\n",
    " t(Germany,Luxembourg) t(Belgium,France) t(Belgium,Netherlands)\n",
    " t(Belgium,Luxembourg) t(France,Luxembourg)\n",
    "\n",
    "Generals\n",
    " x(Belgium) x(Denmark) x(France) x(Germany) x(Luxembourg) x(Netherlands)\n",
    " \n",
    "End\n",
    "'''"
   ]
  },
  {
   "cell_type": "markdown",
   "id": "0b892ae2-c685-4138-82da-8e167e9476f5",
   "metadata": {},
   "source": [
    "## To import the MILP model to DOcplex\n",
    "- Store the model to a temporary file\n",
    "- Have DOcplex read the model from the temporary file"
   ]
  },
  {
   "cell_type": "code",
   "execution_count": null,
   "id": "96cdce04-a707-485d-b9d8-7f1599dc82ff",
   "metadata": {},
   "outputs": [],
   "source": [
    "# Store string to tmp file\n",
    "with tempfile.TemporaryFile(delete=False) as tmp:\n",
    "    tmp.write(colr_str.encode('utf-8'))\n",
    "    tmp.close()\n",
    "    # Have DOcplex read the string\n",
    "    colr_MILP = read_model(filename=tmp.name, model_name='Map Coloring')\n",
    "    # Delete the temporary file\n",
    "    remove(tmp.name)"
   ]
  },
  {
   "cell_type": "markdown",
   "id": "62a4d67c-ccf4-4a43-84c0-2e22f61a32d8",
   "metadata": {},
   "source": [
    "## Summarize the model"
   ]
  },
  {
   "cell_type": "code",
   "execution_count": null,
   "id": "556f61a5-b949-4f0e-b49e-78bd4a951825",
   "metadata": {
    "scrolled": true
   },
   "outputs": [],
   "source": [
    "colr_MILP.print_information()"
   ]
  },
  {
   "cell_type": "markdown",
   "id": "5afd6280-c5ab-4692-94cb-7efde3dc8071",
   "metadata": {},
   "source": [
    "## Solve the MILP and display the result"
   ]
  },
  {
   "cell_type": "code",
   "execution_count": null,
   "id": "cfc385e0-775b-47c1-8b33-b2225a2989b6",
   "metadata": {},
   "outputs": [],
   "source": [
    "colr_sol = colr_MILP.solve()\n",
    "if colr_sol:\n",
    "    colr_sol.display()"
   ]
  },
  {
   "cell_type": "markdown",
   "id": "eeeeda3d-a51c-4ad1-9229-fb8536fa6d34",
   "metadata": {},
   "source": [
    "# Result Visualization"
   ]
  },
  {
   "cell_type": "markdown",
   "id": "d725e3ea-e999-47ef-b677-8c7ff95ec83a",
   "metadata": {},
   "source": [
    "## Import visualization modules\n",
    "- `igraph`, `matplotlib`, `re`"
   ]
  },
  {
   "cell_type": "code",
   "execution_count": null,
   "id": "21327455-fd9a-4881-a741-9386dc86021a",
   "metadata": {},
   "outputs": [],
   "source": [
    "import igraph as ig\n",
    "import matplotlib.pyplot as plt\n",
    "import re"
   ]
  },
  {
   "cell_type": "markdown",
   "id": "3e5adb9b-abe4-46c9-959a-f56eede46165",
   "metadata": {},
   "source": [
    "## Extract country list `V` and neighborship `E` from the MILP model"
   ]
  },
  {
   "cell_type": "code",
   "execution_count": null,
   "id": "8a0d6a43-1d89-4757-a585-799f4546aeaa",
   "metadata": {},
   "outputs": [],
   "source": [
    "V, E = [], []\n",
    "for var in colr_MILP.iter_variables():\n",
    "    if var.name.startswith('x('):\n",
    "        V.append(var.name[2:-1])\n",
    "    elif var.name.startswith('t('):\n",
    "        v1, v2 = re.findall('t\\((.+),(.+)\\)', var.name)[0]\n",
    "        E.append((v1, v2))"
   ]
  },
  {
   "cell_type": "markdown",
   "id": "9fe55dcf-9eda-4d55-bddb-5061c34b8a0d",
   "metadata": {},
   "source": [
    "## For convenience, extract the solution to a dictionary named `sol_x`"
   ]
  },
  {
   "cell_type": "code",
   "execution_count": null,
   "id": "3703a5d4-c169-4391-991f-de75d31e36d3",
   "metadata": {},
   "outputs": [],
   "source": [
    "sol_x = {v: int(colr_sol.get_value(f'x({v})')) for v in V}\n",
    "sol_x"
   ]
  },
  {
   "cell_type": "markdown",
   "id": "99b02750-18c0-4d2e-876e-cf877d7e47e6",
   "metadata": {},
   "source": [
    "## Enumerate some available colors"
   ]
  },
  {
   "cell_type": "code",
   "execution_count": null,
   "id": "34b80791-3fa8-44d0-bbcb-840366667241",
   "metadata": {},
   "outputs": [],
   "source": [
    "colors = ['black', 'white', 'red', 'blue']"
   ]
  },
  {
   "cell_type": "markdown",
   "id": "e43a78fa-2ff2-4721-b5d9-4598c6ac8d2d",
   "metadata": {},
   "source": [
    "## Instantiate a `Graph` object with module `igraph`\n",
    "### Notes\n",
    "- __*Node(s)*__ is/are called __*vertex/vertices*__ in `igraph`\n",
    "- __*Link(s)*__ is/are called __*edge/edges*__ in `igraph`\n",
    "- <font color=red>The edge list only contains country names (instead of country indices), so vertices and edges have to be added to the <code><font color=red>Graph</font></code> object separately.</font>\n",
    "- <font color='red'>In Map-Coloring problems, the links are undirected.</font>"
   ]
  },
  {
   "cell_type": "code",
   "execution_count": null,
   "id": "a3e6bfc1-ba97-438e-ae08-68b6eb6fa321",
   "metadata": {},
   "outputs": [],
   "source": [
    "g = ig.Graph(directed=False)\n",
    "g.add_vertices(V); g.add_edges(E)"
   ]
  },
  {
   "cell_type": "markdown",
   "id": "6bdb11eb-2acc-42e9-b85d-aced5e9822f4",
   "metadata": {},
   "source": [
    "## Visualize the graph"
   ]
  },
  {
   "cell_type": "code",
   "execution_count": null,
   "id": "6cd1ee3d-07ba-4ce8-a097-4c21caecf4d4",
   "metadata": {},
   "outputs": [],
   "source": [
    "g.vs['label'] = g.vs['name']\n",
    "g.vs['label_dist'] = 1\n",
    "g.vs['size'] = 50\n",
    "g.vs['color'] = [colors[sol_x[v]] for v in V]\n",
    "\n",
    "fig, ax = plt.subplots()\n",
    "\n",
    "p = ig.plot(g, layout=g.layout('fr'), target=ax)\n",
    "plt.show()"
   ]
  }
 ],
 "metadata": {
  "kernelspec": {
   "display_name": "Python 3 (ipykernel)",
   "language": "python",
   "name": "python3"
  },
  "language_info": {
   "codemirror_mode": {
    "name": "ipython",
    "version": 3
   },
   "file_extension": ".py",
   "mimetype": "text/x-python",
   "name": "python",
   "nbconvert_exporter": "python",
   "pygments_lexer": "ipython3",
   "version": "3.11.8"
  }
 },
 "nbformat": 4,
 "nbformat_minor": 5
}
