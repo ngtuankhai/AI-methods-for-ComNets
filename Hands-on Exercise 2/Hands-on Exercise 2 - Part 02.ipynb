{
 "cells": [
  {
   "cell_type": "markdown",
   "id": "568c46db-7d8d-42c1-99b2-947599f55825",
   "metadata": {},
   "source": [
    "<font size=50 color=darkblue>Max Flow LP</font>"
   ]
  },
  {
   "cell_type": "markdown",
   "id": "43c2e73a-b4af-4ac8-b495-e507eeac8e9a",
   "metadata": {},
   "source": [
    "# Problem modelling in LP format"
   ]
  },
  {
   "cell_type": "markdown",
   "id": "29a1a839-f7cf-4b2b-8a41-57073f697490",
   "metadata": {},
   "source": [
    "## Import necessary modules\n",
    "- Import function `read_model` from DOcplex to read the Max-Flow LP from a temporary file\n",
    "- Module `tempfile` is imported to create the temporary file\n",
    "- Import function `remove` to delete the temporary file after reading it (required for python version < 3.12)"
   ]
  },
  {
   "cell_type": "code",
   "execution_count": null,
   "id": "8af7beea-59b3-4636-b598-5e7135d607ae",
   "metadata": {},
   "outputs": [],
   "source": [
    "from docplex.mp.model_reader import read_model\n",
    "import tempfile\n",
    "from os import remove"
   ]
  },
  {
   "cell_type": "markdown",
   "id": "928d5dc0-a60c-41fb-90f3-63a4a8a6c450",
   "metadata": {},
   "source": [
    "## Max-Flow LP <font size=3>(variables are colored blue)</font>\n",
    "**Maximize**\n",
    "### $${\\color{blue}y}_{({\\color{red}t},{\\color{green}s})}$$\n",
    "**Subject to**\n",
    "### \\begin{align*}\n",
    "\\sum_{(u,v)\\in{\\color{red}\\delta}^{{\\color{red}-}}_{(v)}}{\\color{blue}y_{(u,v)}} - \\sum_{(v,u)\\in{\\color{green}\\delta}^{{\\color{green}+}}_{(v)}}{\\color{blue}y_{(v,u)}} = 0,\\qquad&\\forall v\\in \\mathcal{V}\\\\\n",
    "0\\le {\\color{blue}y_{(u,v)}}\\le\\mu_{(u,v)},\\qquad&\\forall (u,v)\\in \\mathcal{E}\n",
    "\\end{align*}"
   ]
  },
  {
   "cell_type": "markdown",
   "id": "69321852-467f-4ff9-b37d-45e15a581e22",
   "metadata": {},
   "source": [
    "## Display the network\n",
    "<img src='img/mxf.png' width=700/>"
   ]
  },
  {
   "cell_type": "markdown",
   "id": "75f96816-1bf8-4d6b-bb4c-187ee8bd4c2d",
   "metadata": {},
   "source": [
    "## Write the Max-Flow LP model (in LP format), which is assigned to the variable `mxf_str`"
   ]
  },
  {
   "cell_type": "code",
   "execution_count": null,
   "id": "9645b1aa-46c6-4d9d-a408-4fea479d8be2",
   "metadata": {},
   "outputs": [],
   "source": [
    "mxf_str = '''\n",
    "Maximize\n",
    " obj: y(7,0)\n",
    " \n",
    "Subject To\n",
    " flow_conservation(0): y(7,0) - y(0,1) - y(0,2) - y(0,3) = 0\n",
    " flow_conservation(1): y(0,1) - y(1,2) - y(1,4) - y(1,5) = 0\n",
    " flow_conservation(2): y(0,2) + y(1,2) + y(6,2) - y(2,3) - y(2,5) = 0\n",
    " flow_conservation(3): y(0,3) + y(2,3) - y(3,6) = 0\n",
    " flow_conservation(4): y(1,4) - y(4,5) - y(4,7) = 0\n",
    " flow_conservation(5): y(1,5) + y(2,5) + y(4,5) - y(5,6) - y(5,7) = 0\n",
    " flow_conservation(6): y(3,6) + y(5,6) - y(6,2) - y(6,7) = 0\n",
    " flow_conservation(7): y(4,7) + y(5,7) + y(6,7) - y(7,0) = 0\n",
    "\n",
    "Bounds\n",
    " 0 <= y(0,1) <= 10\n",
    " 0 <= y(0,2) <= 5\n",
    " 0 <= y(0,3) <= 15\n",
    " 0 <= y(1,2) <= 4\n",
    " 0 <= y(1,4) <= 9\n",
    " 0 <= y(1,5) <= 15\n",
    " 0 <= y(2,3) <= 4\n",
    " 0 <= y(2,5) <= 8\n",
    " 0 <= y(6,2) <= 6\n",
    " 0 <= y(3,6) <= 30\n",
    " 0 <= y(4,5) <= 15\n",
    " 0 <= y(4,7) <= 10\n",
    " 0 <= y(5,6) <= 15\n",
    " 0 <= y(5,7) <= 10\n",
    " 0 <= y(6,7) <= 10\n",
    "End\n",
    "'''"
   ]
  },
  {
   "cell_type": "markdown",
   "id": "6a3a3d53-cd3a-4a66-9237-ebda8d2ef955",
   "metadata": {},
   "source": [
    "## To import the LP model to DOcplex\n",
    "- Store the model to a temporary file\n",
    "- Have DOcplex read the model from the temporary file"
   ]
  },
  {
   "cell_type": "code",
   "execution_count": null,
   "id": "c7651cd6-0a8f-44ef-b2d6-bc34b6e25e0e",
   "metadata": {},
   "outputs": [],
   "source": [
    "# Store string to tmp file\n",
    "with tempfile.TemporaryFile(delete=False) as tmp:\n",
    "    tmp.write(mxf_str.encode('utf-8'))\n",
    "    tmp.close()\n",
    "    # Have DOcplex read the string\n",
    "    mxf_LP = read_model(filename=tmp.name, model_name='Max Flow')\n",
    "    # Delete the temporary file\n",
    "    remove(tmp.name)"
   ]
  },
  {
   "cell_type": "markdown",
   "id": "3b6229bc-12d0-4f1d-8d21-4fdf56b7911f",
   "metadata": {},
   "source": [
    "## Summarize the model"
   ]
  },
  {
   "cell_type": "code",
   "execution_count": null,
   "id": "7876fa5d-7904-4458-afc0-32afce931c1c",
   "metadata": {},
   "outputs": [],
   "source": [
    "mxf_LP.print_information()"
   ]
  },
  {
   "cell_type": "markdown",
   "id": "7b66ea49-2f66-419f-aa0a-3260d4eba5bd",
   "metadata": {},
   "source": [
    "## Solve the LP and display the result"
   ]
  },
  {
   "cell_type": "code",
   "execution_count": null,
   "id": "010381ce-92e8-4708-b389-7bcfcb2e512c",
   "metadata": {},
   "outputs": [],
   "source": [
    "mxf_sol = mxf_LP.solve()\n",
    "if mxf_sol:\n",
    "    mxf_sol.display()"
   ]
  },
  {
   "cell_type": "markdown",
   "id": "fe0b7b2f-a4c2-4f57-b5b7-24d3dfc21e40",
   "metadata": {},
   "source": [
    "# Result Visualization"
   ]
  },
  {
   "cell_type": "markdown",
   "id": "5de9eb73-db9b-45fb-972c-20e36ee47b7b",
   "metadata": {},
   "source": [
    "## Import visualization modules\n",
    "- `igraph`, `matplotlib`, `re`"
   ]
  },
  {
   "cell_type": "code",
   "execution_count": null,
   "id": "5b7397d0-5cb9-426e-9d52-e57393c4fb28",
   "metadata": {},
   "outputs": [],
   "source": [
    "import igraph as ig\n",
    "import matplotlib.pyplot as plt\n",
    "import re"
   ]
  },
  {
   "cell_type": "markdown",
   "id": "311fafbf-7cfc-4a25-a898-efeab93a6f56",
   "metadata": {},
   "source": [
    "## Extract the link list `E`, link capacities $\\mu$, source <code><font color='green'>s</font></code>, and sink <code><font color='red'>t</font></code> from the LP model"
   ]
  },
  {
   "cell_type": "code",
   "execution_count": null,
   "id": "72390d68-6b61-492f-9017-34d179857066",
   "metadata": {},
   "outputs": [],
   "source": [
    "E, mu = [], {}\n",
    "\n",
    "for var in mxf_LP.iter_variables():\n",
    "    u, v = re.findall('y\\((.+),(.+)\\)', var.name)[0]\n",
    "    E.append(e:=(int(u), int(v)))\n",
    "    mu[e] = int(var.ub)\n",
    "\n",
    "t, s = re.findall('y\\((.+),(.+)\\)', mxf_LP.objective_expr.to_string())[0]\n",
    "s, t = int(s), int(t)"
   ]
  },
  {
   "cell_type": "markdown",
   "id": "b86dd5d3-9c10-444a-ae6c-bb774185f732",
   "metadata": {},
   "source": [
    "## Since the link (<font color='red'>t</font>, <font color='green'>s</font>) is imaginary, remove it from the link list `E`"
   ]
  },
  {
   "cell_type": "code",
   "execution_count": null,
   "id": "b42f851e-e3be-4886-b179-83350335352b",
   "metadata": {},
   "outputs": [],
   "source": [
    "E.remove((t,s))"
   ]
  },
  {
   "cell_type": "markdown",
   "id": "a7b8dbe3-81ec-460c-9543-34779af513e2",
   "metadata": {},
   "source": [
    "## For convenience, extract the solution to a dictionary named `sol_y`"
   ]
  },
  {
   "cell_type": "code",
   "execution_count": null,
   "id": "1bd472c6-32a3-4481-8b1b-320dcf99e6d0",
   "metadata": {},
   "outputs": [],
   "source": [
    "sol_y = {(u,v): mxf_sol.get_value(f'y({u},{v})') for u,v in E}\n",
    "sol_y"
   ]
  },
  {
   "cell_type": "markdown",
   "id": "8dcdb7e2-e376-448d-97d8-5e7d639d0b23",
   "metadata": {},
   "source": [
    "## Instantiate a `Graph` object with module `igraph`\n",
    "### Notes\n",
    "- __*Node(s)*__ is/are called __*vertex/vertices*__ in `igraph`\n",
    "- __*Link(s)*__ is/are called __*edge/edges*__ in `igraph`\n",
    "- The edge list is sufficient to instantiate a `Graph` object. The vertex list is automatically inferred by `igraph` (based on the tails/heads' indices)."
   ]
  },
  {
   "cell_type": "code",
   "execution_count": null,
   "id": "3967cfe1-e816-43bc-b3e6-e09b8892176e",
   "metadata": {},
   "outputs": [],
   "source": [
    "g = ig.Graph(edges=E, directed=True)"
   ]
  },
  {
   "cell_type": "markdown",
   "id": "7542a222-17b5-4f68-a39c-f9cec7d02665",
   "metadata": {},
   "source": [
    "## Visualize the graph"
   ]
  },
  {
   "cell_type": "code",
   "execution_count": null,
   "id": "ab7d9e97-e6c7-4e8f-ab5f-ae13387640d0",
   "metadata": {},
   "outputs": [],
   "source": [
    "g.vs['label'] = g.vs.indices\n",
    "g.vs['size'] = 50\n",
    "g.vs['color'] = 'white'\n",
    "g.vs[s,t]['color'] = 'green', 'red'\n",
    "\n",
    "lnk_flow_max = max(sol_y.values())\n",
    "g.es['flow'] = [sol_y[e] for e in E]\n",
    "g.es['cap'] = [mu[e] for e in E]\n",
    "g.es['label'] = ' '\n",
    "g.es['arrow_size'] = [10 if sol_y[e] > 0 else 6 for e in E]\n",
    "g.es['arrow_width'] = [10 if sol_y[e] > 0 else None for e in E]\n",
    "g.es['width'] = [.4*(sol_y[e] + 1) for e in E]\n",
    "g.es['color'] = ['darkblue' if sol_y[e] > 0 else None for e in E]\n",
    "g.es['flow_label_color'] = ['blue' if sol_y[e] > 0 else 'black' for e in E]\n",
    "g.es['cap_label_color']  = ['red' if sol_y[e] > 0 else 'black' for e in E]\n",
    "g.es['label_size'] = [10 if sol_y[e] > 0 else 7 for e in E]\n",
    "\n",
    "fig, ax = plt.subplots()\n",
    "fig.set_size_inches(10,10)\n",
    "\n",
    "p = ig.plot(g, layout=g.layout('fr'), edge_label=g.es['label'], target=ax)\n",
    "\n",
    "for e, edge_label in zip(g.es, p.get_edge_labels()):\n",
    "    txt = ax.annotate(f'{e[\"flow\"]:g}', xycoords=edge_label, xy=(-5,0), color=e['flow_label_color'], backgroundcolor='white', size=e['label_size'])\n",
    "    txt =  ax.annotate(f' | ', xycoords=txt, xy=(1,0), color='k', size=e['label_size'], verticalalignment='bottom')\n",
    "    txt =  ax.annotate(f'{e[\"cap\"]}', xycoords=txt, xy=(1,0), color=e['cap_label_color'], backgroundcolor='white', size=e['label_size'], verticalalignment='bottom')\n",
    "    \n",
    "plt.show()"
   ]
  }
 ],
 "metadata": {
  "kernelspec": {
   "display_name": "Python 3 (ipykernel)",
   "language": "python",
   "name": "python3"
  },
  "language_info": {
   "codemirror_mode": {
    "name": "ipython",
    "version": 3
   },
   "file_extension": ".py",
   "mimetype": "text/x-python",
   "name": "python",
   "nbconvert_exporter": "python",
   "pygments_lexer": "ipython3",
   "version": "3.11.8"
  }
 },
 "nbformat": 4,
 "nbformat_minor": 5
}
