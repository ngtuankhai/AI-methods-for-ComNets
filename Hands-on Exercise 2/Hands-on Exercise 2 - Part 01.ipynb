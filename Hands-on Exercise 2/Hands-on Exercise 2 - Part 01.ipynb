{
 "cells": [
  {
   "cell_type": "markdown",
   "id": "e60efbee-ef42-4920-b983-61057fd90f46",
   "metadata": {},
   "source": [
    "<font size=50 color=darkblue>Min Cost Flow LP</font>"
   ]
  },
  {
   "cell_type": "markdown",
   "id": "11e55d38-bbc6-427c-abd9-900a97a804c9",
   "metadata": {},
   "source": [
    "# Problem modelling in LP format"
   ]
  },
  {
   "cell_type": "markdown",
   "id": "fcebdef1-3fe8-4bc3-b9ca-b588f52db5ee",
   "metadata": {},
   "source": [
    "## Import necessary modules\n",
    "- Import function `read_model` from DOcplex to read the Min-Cost-Flow LP from a temporary file\n",
    "- Module `tempfile` is imported to create the temporary file\n",
    "- Import function `remove` to delete the temporary file after reading it (required for python version < 3.12)"
   ]
  },
  {
   "cell_type": "code",
   "execution_count": null,
   "id": "5e9cd1a3-2f02-4d2f-b399-3f60aad3853c",
   "metadata": {},
   "outputs": [],
   "source": [
    "from docplex.mp.model_reader import read_model\n",
    "import tempfile\n",
    "from os import remove"
   ]
  },
  {
   "cell_type": "markdown",
   "id": "667c0c85-70fc-47cb-850a-ad2ef9536677",
   "metadata": {},
   "source": [
    "## Min-Cost-Flow LP <font size=3>(variables are colored blue)</font>\n",
    "**Minimize**\n",
    "### $$\\sum_{(u,v)\\in \\mathcal{E}}c_{(u,v)}\\cdot \\color{blue}x_{(u,v)}$$\n",
    "**Subject to**\n",
    "### \\begin{align*}\n",
    "\\sum_{(u,v)\\in{\\color{red}\\delta}^{\\color{red}-}_{(v)}}{\\color{blue}x_{(u,v)}} - \\sum_{(v,u)\\in{\\color{green}\\delta}^{\\color{green}+}_{(v)}}{\\color{blue}x_{(v,u)}} = 0,\\qquad&\\forall v\\in \\mathcal{V}\\backslash\\left({\\color{green}\\mathcal{S}}\\bigcup {\\color{red}\\mathcal{D}}\\right)\\\\\n",
    "\\sum_{(u,v)\\in{\\color{red}\\delta}^{\\color{red}-}_{(v)}}{\\color{blue}x_{(u,v)}} - \\sum_{(v,u)\\in{\\color{green}\\delta}^{\\color{green}+}_{(v)}}{\\color{blue}x_{(v,u)}} \\ge d_{(v)},\\qquad&\\forall v\\in {\\color{red}\\mathcal{D}}\\\\\n",
    "\\sum_{(v,u)\\in{\\color{green}\\delta}^{\\color{green}+}_{(v)}}{\\color{blue}x_{(v,u)}} - \\sum_{(u,v)\\in{\\color{red}\\delta}^{\\color{red}-}_{(v)}}{\\color{blue}x_{(u,v)}} \\le s_{(v)},\\qquad&\\forall v\\in {\\color{green}\\mathcal{S}}\\\\\n",
    "0\\le {\\color{blue}x_{(u,v)}}\\le \\mu_{(u,v)},\\qquad&\\forall(u,v)\\in \\mathcal{E}\n",
    "\\end{align*}"
   ]
  },
  {
   "cell_type": "markdown",
   "id": "e98392be-8be0-4cb0-8ef2-3025c5f0ac39",
   "metadata": {},
   "source": [
    "## Display the network\n",
    "<img src='img/mcf.png' width=700/>"
   ]
  },
  {
   "cell_type": "markdown",
   "id": "b4297346-9b18-4f77-b0fd-e4fd00465557",
   "metadata": {},
   "source": [
    "## A typical basic LP format consists of three sections\n",
    "1. Objective expression, starting with a keyword for <em>objective sense</em>, which is either `Minimize` or `Maximize`\n",
    "2. Constraints, starting with the keyword `Subject To`\n",
    "3. Variable bounds, starting with the keyword `Bounds`\n",
    "4. The LP format ends with the keyword `End`."
   ]
  },
  {
   "cell_type": "markdown",
   "id": "0cd63b49-047a-4e27-ac9d-1c006b6318f4",
   "metadata": {},
   "source": [
    "## Write the Min-Cost-Flow LP model (in LP format), which is assigned to the variable `mcf_str`"
   ]
  },
  {
   "cell_type": "code",
   "execution_count": null,
   "id": "56ccf7c0-bcf2-4db2-806b-ffbe3ec9d768",
   "metadata": {},
   "outputs": [],
   "source": [
    "mcf_str = '''\n",
    "Minimize\n",
    " 0.8 x(0,3) + 2.0 x(0,4) + 2.5 x(1,3) + 1.0 x(1,4) + 1.2 x(2,3) + 2.0 x(2,4) + 1.0 x(3,4) + 1.0 x(3,5) + 1.0 x(3,6) + 1.0 x(4,7) + 1.0 x(4,8)\n",
    " \n",
    "Subject To\n",
    " flow_conservation(3): x(0,3) + x(1,3) + x(2,3) - x(3,4) - x(3,5) - x(3,6) = 0\n",
    " flow_conservation(4): x(0,4) + x(1,4) + x(2,4) + x(3,4) - x(4,7) - x(4,8) = 0\n",
    " demand_satisfaction(5): x(3,5) >= 150\n",
    " demand_satisfaction(6): x(3,6) >= 150\n",
    " demand_satisfaction(7): x(4,7) >= 150\n",
    " demand_satisfaction(8): x(4,8) >= 150\n",
    " capacity_supply(0): x(0,3) + x(0,4) <= 100\n",
    " capacity_supply(1): x(1,3) + x(1,4) <= 200\n",
    " capacity_supply(2): x(2,3) + x(2,4) <= 300\n",
    "\n",
    "Bounds\n",
    " 0 <= x(0,3) <= 300\n",
    " 0 <= x(0,4) <= 300\n",
    " 0 <= x(1,3) <= 300\n",
    " 0 <= x(1,4) <= 300\n",
    " 0 <= x(2,3) <= 300\n",
    " 0 <= x(2,4) <= 300\n",
    " 0 <= x(3,4) <= 300\n",
    " 0 <= x(3,5) <= 300\n",
    " 0 <= x(3,6) <= 300\n",
    " 0 <= x(4,7) <= 300\n",
    " 0 <= x(4,8) <= 300\n",
    "End\n",
    "'''"
   ]
  },
  {
   "cell_type": "markdown",
   "id": "2600b334-e9ab-42da-b6ed-97b687106b00",
   "metadata": {},
   "source": [
    "## To import the LP model to DOcplex\n",
    "- Store the model to a temporary file\n",
    "- Have DOcplex read the model from the temporary file"
   ]
  },
  {
   "cell_type": "code",
   "execution_count": null,
   "id": "e8f854a7-2aec-40e4-bd55-ac2efe026bf7",
   "metadata": {},
   "outputs": [],
   "source": [
    "# Store string to tmp file\n",
    "with tempfile.TemporaryFile(delete=False) as tmp:\n",
    "    tmp.write(mcf_str.encode('utf-8'))\n",
    "    tmp.close()\n",
    "    # Have DOcplex read the string\n",
    "    mcf_LP = read_model(filename=tmp.name, model_name='Min Cost Flow')\n",
    "    # Delete the temporary file\n",
    "    remove(tmp.name)"
   ]
  },
  {
   "cell_type": "markdown",
   "id": "bbb22898-324b-4dbc-b405-61c3d50e9f36",
   "metadata": {},
   "source": [
    "## Summarize the model"
   ]
  },
  {
   "cell_type": "code",
   "execution_count": null,
   "id": "66e64892-e47f-471c-9c98-94d421ffa646",
   "metadata": {},
   "outputs": [],
   "source": [
    "mcf_LP.print_information()"
   ]
  },
  {
   "cell_type": "markdown",
   "id": "af62d3db-f4dd-483b-b32a-cb11ab5a5c1c",
   "metadata": {},
   "source": [
    "## Solve the LP and display the result"
   ]
  },
  {
   "cell_type": "code",
   "execution_count": null,
   "id": "573a19cd-f35a-4b9a-a079-cfa3ad6370ae",
   "metadata": {},
   "outputs": [],
   "source": [
    "mcf_sol = mcf_LP.solve()\n",
    "if mcf_sol:\n",
    "    mcf_sol.display()"
   ]
  },
  {
   "cell_type": "markdown",
   "id": "0406c450-5ec1-451a-a3c4-44aba9420d5f",
   "metadata": {},
   "source": [
    "# Result Visualization"
   ]
  },
  {
   "cell_type": "markdown",
   "id": "bad9f070-ee58-45ad-bada-6cfcc0f72895",
   "metadata": {},
   "source": [
    "## Import visualization modules\n",
    "- `igraph`, `matplotlib`, `re`"
   ]
  },
  {
   "cell_type": "code",
   "execution_count": null,
   "id": "3da554de-d1ec-4ae4-adf5-9560e47475fd",
   "metadata": {},
   "outputs": [],
   "source": [
    "import igraph as ig\n",
    "import matplotlib.pyplot as plt\n",
    "import re"
   ]
  },
  {
   "cell_type": "markdown",
   "id": "a00dade5-9268-4e30-a726-a21094d3eafd",
   "metadata": {},
   "source": [
    "## Extract the link list `E`, link capacities $\\mu$, supply node list <code><font color='green'>S</font></code>, and demand node list <code><font color='red'>D</font></code> from the LP model"
   ]
  },
  {
   "cell_type": "code",
   "execution_count": null,
   "id": "355f8cc7-b3d9-45d6-a90b-bac6a79f3619",
   "metadata": {},
   "outputs": [],
   "source": [
    "E, mu, S, D = [], {}, [], []\n",
    "\n",
    "for var in mcf_LP.iter_variables():\n",
    "    u, v = re.findall('x\\((.+),(.+)\\)', var.name)[0]\n",
    "    E.append(e:=(int(u), int(v)))\n",
    "    mu[e] = int(var.ub)\n",
    "\n",
    "for c in mcf_LP.iter_constraints():\n",
    "    if c.name.startswith('capacity'):\n",
    "        v = re.findall('capacity_supply\\((.+)\\)', c.name)[0]\n",
    "        S.append(int(v))\n",
    "    elif c.name.startswith('demand'):\n",
    "        v = re.findall('demand_satisfaction\\((.+)\\)', c.name)[0]\n",
    "        D.append(int(v))"
   ]
  },
  {
   "cell_type": "markdown",
   "id": "a6439e68-b494-4531-ba4a-2ddcfd059f31",
   "metadata": {},
   "source": [
    "## For convenience, extract the solution to a dictionary named `sol_x`"
   ]
  },
  {
   "cell_type": "code",
   "execution_count": null,
   "id": "f696d255-f406-4b42-b881-708bc571c0f3",
   "metadata": {},
   "outputs": [],
   "source": [
    "sol_x = {(u,v): mcf_sol.get_value(f'x({u},{v})') for u,v in E}\n",
    "sol_x"
   ]
  },
  {
   "cell_type": "markdown",
   "id": "df02a163-52a1-44fa-8bd4-338465f40893",
   "metadata": {},
   "source": [
    "## Instantiate a `Graph` object with module `igraph`\n",
    "### Notes\n",
    "- __*Node(s)*__ is/are called __*vertex/vertices*__ in `igraph`\n",
    "- __*Link(s)*__ is/are called __*edge/edges*__ in `igraph`\n",
    "- The edge list is sufficient to instantiate a `Graph` object. The vertex list is automatically inferred by `igraph` (based on the tails/heads' indices)."
   ]
  },
  {
   "cell_type": "code",
   "execution_count": null,
   "id": "e716b528-44b9-4be5-a4a7-6c20a9e0e30f",
   "metadata": {},
   "outputs": [],
   "source": [
    "g = ig.Graph(edges=E, directed=True)"
   ]
  },
  {
   "cell_type": "markdown",
   "id": "24624256-e55e-49b0-83df-fc07ce930b48",
   "metadata": {},
   "source": [
    "## Visualize the graph"
   ]
  },
  {
   "cell_type": "code",
   "execution_count": null,
   "id": "52b8597b-94d1-478b-adb3-b96c24e63c94",
   "metadata": {},
   "outputs": [],
   "source": [
    "g.vs['label'] = g.vs.indices\n",
    "g.vs['size'] = 50\n",
    "g.vs['color'] = 'white'\n",
    "g.vs[S]['color'] = 'green'\n",
    "g.vs[D]['color'] = 'red'\n",
    "\n",
    "g.es['flow'] = [sol_x[e] for e in E]\n",
    "g.es['cap'] = [mu[e] for e in E]\n",
    "g.es['label'] = ' '\n",
    "g.es['arrow_size'] = [6 + 4*(sol_x[e] > 0) for e in E]\n",
    "g.es['arrow_width'] = [10 if sol_x[e] > 0 else None for e in E]\n",
    "g.es['width'] = [.5 + 2.5*(sol_x[e] > 0) for e in E]\n",
    "g.es['color'] = ['darkblue' if sol_x[e] > 0 else None for e in E]\n",
    "g.es['flow_label_color'] = ['blue' if sol_x[e] > 0 else 'black' for e in E]\n",
    "g.es['cap_label_color']  = ['red' if sol_x[e] > 0 else 'black' for e in E]\n",
    "g.es['label_size'] = [7 + 3*(sol_x[e] > 0) for e in E]\n",
    "\n",
    "fig, ax = plt.subplots()\n",
    "fig.set_size_inches(10,10)\n",
    "\n",
    "p = ig.plot(g, layout=g.layout('tree'), edge_label=g.es['label'], target=ax)\n",
    "\n",
    "for e, edge_label in zip(g.es, p.get_edge_labels()):\n",
    "    txt = ax.annotate(f'{e[\"flow\"]:g}', xycoords=edge_label, xy=(-5,0), color=e['flow_label_color'], backgroundcolor='white', size=e['label_size'])\n",
    "    txt =  ax.annotate(f' | ', xycoords=txt, xy=(1,0), color='k', size=e['label_size'], verticalalignment='bottom')\n",
    "    txt =  ax.annotate(f'{e[\"cap\"]}', xycoords=txt, xy=(1,0), color=e['cap_label_color'], backgroundcolor='white', size=e['label_size'], verticalalignment='bottom')\n",
    "    \n",
    "plt.show()"
   ]
  }
 ],
 "metadata": {
  "kernelspec": {
   "display_name": "Python 3 (ipykernel)",
   "language": "python",
   "name": "python3"
  },
  "language_info": {
   "codemirror_mode": {
    "name": "ipython",
    "version": 3
   },
   "file_extension": ".py",
   "mimetype": "text/x-python",
   "name": "python",
   "nbconvert_exporter": "python",
   "pygments_lexer": "ipython3",
   "version": "3.11.8"
  }
 },
 "nbformat": 4,
 "nbformat_minor": 5
}
