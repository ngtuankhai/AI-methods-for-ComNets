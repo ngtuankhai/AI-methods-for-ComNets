{
 "cells": [
  {
   "cell_type": "markdown",
   "id": "44b91bba-cbf6-40bd-8eb4-69e3626744d8",
   "metadata": {},
   "source": [
    "<font size=50 color=darkblue>Min Cut MILP</font>"
   ]
  },
  {
   "cell_type": "markdown",
   "id": "ee9f3216-0ab8-4a4a-a297-be3965e32c2b",
   "metadata": {},
   "source": [
    "# Problem modelling with DOcplex"
   ]
  },
  {
   "cell_type": "markdown",
   "id": "c6986fbb-97b9-4d78-bb46-25a6a82fcb9e",
   "metadata": {},
   "source": [
    "## Import necessary module\n",
    "\n",
    "- DOcplex will be used to model and solve the Min-Cut MILP"
   ]
  },
  {
   "cell_type": "code",
   "execution_count": null,
   "id": "b7a10b1e-dc27-40b0-975a-5472145e9572",
   "metadata": {},
   "outputs": [],
   "source": [
    "from docplex.mp.model import Model"
   ]
  },
  {
   "cell_type": "markdown",
   "id": "7b78ff20-22ce-4c5c-878a-b8a537867301",
   "metadata": {},
   "source": [
    "## Min-Cut MILP <font size=3>(variables are colored blue)</font>\n",
    "**Minimize**\n",
    "### $$\\sum_{(u,v)\\in \\mathcal{E}}\\mu_{(u,v)}\\cdot \\color{blue}x_{(u,v)}$$\n",
    "**Subject to**\n",
    "### \\begin{align*}\n",
    "{\\color{blue}z}_{\\color{red}(t)} - {\\color{blue}z}_{\\color{green}(s)}&=1&\\\\\n",
    "{\\color{blue}x_{(u,v)}} &\\ge {\\color{blue}z_{(v)}} - {\\color{blue}z_{(u)}},&\\forall(u,v)\\in \\mathcal{E}\\\\\n",
    "{\\color{blue}x_{(u,v)}}&\\in \\left\\{0,1\\right\\},&\\forall(u,v)\\in \\mathcal{E}\\\\\n",
    "{\\color{blue}z_{(v)}} &\\in \\mathbb{R},&\\forall v\\in \\mathcal{V}\\\\\n",
    "\\end{align*}"
   ]
  },
  {
   "cell_type": "markdown",
   "id": "6114fbf3-22ee-42ff-891c-6005549046bb",
   "metadata": {},
   "source": [
    "## Display the network\n",
    "<img src='img/mc.png' width=700/>"
   ]
  },
  {
   "cell_type": "markdown",
   "id": "023f4d13-6d00-4705-b2e0-c88076a851e2",
   "metadata": {},
   "source": [
    "## Define the model input\n",
    "### \\begin{align*}\n",
    "\\mathcal{V} =\\,& \\{0, 1, 2, 3, 4, 5, 6, 7\\}&\\\\\n",
    "\\mathcal{E} =\\,& \\{(0,1), (0,2), (0,3), (1,2), (1,4), (1,5), (2,3), (2,5), (3,6), (4,5), (4,7), (5,6), (5,7), (6,2), (6,7)\\}&\\\\\n",
    "{\\color{green}s} =\\,& 0&\\\\\n",
    "{\\color{red}t} =\\,& 7&\n",
    "\\end{align*}"
   ]
  },
  {
   "cell_type": "code",
   "execution_count": null,
   "id": "131aa271-fd90-4044-b173-9d8bdaec17ae",
   "metadata": {},
   "outputs": [],
   "source": [
    "V = [0, 1, 2, 3, 4, 5, 6, 7]\n",
    "E = [(0,1), (0,2), (0,3), (1,2), (1,4), (1,5), (2,3), (2,5), (3,6), (4,5), (4,7), (5,6), (5,7), (6,2), (6,7)]\n",
    "s, t = 0, 7"
   ]
  },
  {
   "cell_type": "markdown",
   "id": "00aa8c7a-4ad9-4d49-8b52-dfd8ff5e9f50",
   "metadata": {},
   "source": [
    "## Define link capacities $\\mu_{(e)},\\,\\forall e\\in \\mathcal{E}$, subscriptable by link indices"
   ]
  },
  {
   "cell_type": "code",
   "execution_count": null,
   "id": "fcb0f377-7dea-40c1-866a-978e6b57ce95",
   "metadata": {},
   "outputs": [],
   "source": [
    "mu = {e: cap for e,cap in zip(E, [10, 5, 15, 4, 9, 15, 4, 8, 30, 15, 10, 15, 10, 6, 10])}"
   ]
  },
  {
   "cell_type": "markdown",
   "id": "6dbb81fc-dc88-421c-8286-b59ca736a434",
   "metadata": {},
   "source": [
    "## Create the MILP model for Min-Cut problem using DOcplex"
   ]
  },
  {
   "cell_type": "code",
   "execution_count": null,
   "id": "c23f5c55-338c-45a3-a36b-603dc7340781",
   "metadata": {},
   "outputs": [],
   "source": [
    "mc_MILP = Model(name='Minimum Cut')"
   ]
  },
  {
   "cell_type": "markdown",
   "id": "287247c4-ae3c-405b-9ef3-1959503fc98d",
   "metadata": {},
   "source": [
    "## Define decision variables\n",
    "## \\begin{align*}\n",
    "{\\color{blue}x_{(u,v)}}&\\in \\left\\{0,1\\right\\},&\\forall(u,v)\\in \\mathcal{E}\\\\\n",
    "{\\color{blue}z_{(v)}} &\\in \\mathbb{R},&\\forall v\\in \\mathcal{V}\\\\\n",
    "\\end{align*}"
   ]
  },
  {
   "cell_type": "code",
   "execution_count": null,
   "id": "bc35bdfd-3359-49a7-840c-85e7dc4c0db1",
   "metadata": {},
   "outputs": [],
   "source": [
    "mc_MILP.clear() # This line is optional. Its purpose is to avoid variable duplicates\n",
    "x = {(u,v): mc_MILP.binary_var(name=f'x({u},{v})') for u,v in E}\n",
    "z = {v: mc_MILP.continuous_var(name=f'z({v})') for v in V}"
   ]
  },
  {
   "cell_type": "markdown",
   "id": "b1b9dde3-09a3-4c6a-910e-b0d15f0cbd6f",
   "metadata": {},
   "source": [
    "## Define node cut constraints, subscriptable by link indices\n",
    "## \\begin{align*}\n",
    "{\\color{blue}x_{(u,v)}} &\\ge {\\color{blue}z_{(v)}} - {\\color{blue}z_{(u)}},&\\forall(u,v)\\in \\mathcal{E}\\\\\n",
    "{\\color{blue}z}_{\\color{red}(t)} - {\\color{blue}z}_{\\color{green}(s)}&=1&\\\\\n",
    "\\end{align*}"
   ]
  },
  {
   "cell_type": "code",
   "execution_count": null,
   "id": "62837ace-cd22-4f70-bd01-e8c6910c7968",
   "metadata": {},
   "outputs": [],
   "source": [
    "ct = {(u,v): mc_MILP.add_constraint(ct=x[u,v] >= z[v] - z[u]) for (u,v) in E}\n",
    "ct[t,s] = mc_MILP.add_constraint(ct=z[t] - z[s] == 1)"
   ]
  },
  {
   "cell_type": "markdown",
   "id": "f926dd45-f7a4-4bb8-9924-785f3c094901",
   "metadata": {},
   "source": [
    "## Define objective function $$\\textbf{minimize}\\qquad \\sum_{(u,v)\\in \\mathcal{E}}\\mu_{(u,v)}\\cdot \\color{blue}x_{(u,v)}$$"
   ]
  },
  {
   "cell_type": "code",
   "execution_count": null,
   "id": "64011854-32ad-4797-a3df-2458c345018f",
   "metadata": {},
   "outputs": [],
   "source": [
    "mc_MILP.minimize(mc_MILP.sum(mu[e]*x[e] for e in E))"
   ]
  },
  {
   "cell_type": "markdown",
   "id": "fec2df5f-ce1b-4c0d-94c1-2e6aee6fc045",
   "metadata": {},
   "source": [
    "## Summarize the model"
   ]
  },
  {
   "cell_type": "code",
   "execution_count": null,
   "id": "2dbfa7e1-ebfc-4b21-95de-c5c50a172a84",
   "metadata": {},
   "outputs": [],
   "source": [
    "mc_MILP.print_information()"
   ]
  },
  {
   "cell_type": "markdown",
   "id": "59951b96-6871-41ac-9869-1cd3456c6981",
   "metadata": {},
   "source": [
    "## Solve the MILP and display the result"
   ]
  },
  {
   "cell_type": "code",
   "execution_count": null,
   "id": "4b21cd90-b1a2-497e-8fd8-034dd1aaabc0",
   "metadata": {},
   "outputs": [],
   "source": [
    "mc_sol = mc_MILP.solve()\n",
    "if mc_sol:\n",
    "    mc_sol.display()"
   ]
  },
  {
   "cell_type": "markdown",
   "id": "bc6a3953-525a-4364-9fdd-1372f98f4646",
   "metadata": {},
   "source": [
    "# Result Visualization"
   ]
  },
  {
   "cell_type": "markdown",
   "id": "539dcc9b-78cc-4f6b-83de-78f6938e5668",
   "metadata": {},
   "source": [
    "## Import visualization modules\n",
    "- `igraph`, `numpy`, `matplotlib`, `scipy`"
   ]
  },
  {
   "cell_type": "code",
   "execution_count": null,
   "id": "d0379506-0a66-4f76-85d7-7e84a9f37873",
   "metadata": {},
   "outputs": [],
   "source": [
    "import igraph as ig\n",
    "import numpy as np\n",
    "import matplotlib.pyplot as plt\n",
    "from scipy import interpolate\n",
    "from scipy.spatial import ConvexHull"
   ]
  },
  {
   "cell_type": "markdown",
   "id": "d51b9c39-5c4b-4e09-98eb-88fbab142af4",
   "metadata": {},
   "source": [
    "## For convenience, extract the solution to dictionaries named `sol_x` and `sol_z`"
   ]
  },
  {
   "cell_type": "code",
   "execution_count": null,
   "id": "2e1e2264-a3e6-45b7-8fdc-aaaaf1a45b92",
   "metadata": {},
   "outputs": [],
   "source": [
    "sol_x = mc_sol.get_value_dict(x)\n",
    "sol_z = mc_sol.get_value_dict(z)\n",
    "print(f'{sol_x = }')\n",
    "print(f'{sol_z = }')"
   ]
  },
  {
   "cell_type": "markdown",
   "id": "35c357ab-8407-4de9-8acc-30b5f897f159",
   "metadata": {},
   "source": [
    "## Instantiate a `Graph` object with module `igraph`\n",
    "### Notes\n",
    "- __*Node(s)*__ is/are called __*vertex/vertices*__ in `igraph`\n",
    "- __*Link(s)*__ is/are called __*edge/edges*__ in `igraph`\n",
    "- The edge list is sufficient to instantiate a `Graph` object. The vertex list is automatically inferred by `igraph` (based on the tails/heads' indices)."
   ]
  },
  {
   "cell_type": "code",
   "execution_count": null,
   "id": "92fbee38-900c-49c4-8141-1381f9818098",
   "metadata": {},
   "outputs": [],
   "source": [
    "g = ig.Graph(edges=E, directed=True)"
   ]
  },
  {
   "cell_type": "markdown",
   "id": "b6f23877-a0fc-492e-a7dc-648911d015ee",
   "metadata": {},
   "source": [
    "## Visualize the graph"
   ]
  },
  {
   "cell_type": "code",
   "execution_count": null,
   "id": "9eb8b227-18dc-4d9d-b5f9-6c113772f8bc",
   "metadata": {},
   "outputs": [],
   "source": [
    "g.vs['label'] = g.vs.indices\n",
    "g.vs['size'] = 50\n",
    "g.vs['color'] = 'white'\n",
    "g.vs[s,t]['color'] = 'green', 'red'\n",
    "\n",
    "g.es['label'] = [mu[e] for e in E]\n",
    "g.es['arrow_size'] = [10 if sol_x[e] > 0 else 6 for e in E]\n",
    "g.es['arrow_width'] = [10 if sol_x[e] > 0 else None for e in E]\n",
    "g.es['width'] = [3 if sol_x[e] > 0 else 0.5 for e in E]\n",
    "g.es['color'] = ['darkblue' if sol_x[e] > 0 else None for e in E]\n",
    "g.es['label_size'] = 15\n",
    "\n",
    "fig, ax = plt.subplots()\n",
    "fig.set_size_inches(10,10)\n",
    "\n",
    "layout = g.layout('fr')\n",
    "coords = np.asarray(layout.coords)\n",
    "p = ig.plot(g, layout=layout, edge_label=g.es['label'], edge_background='white', target=ax)\n",
    "\n",
    "bboxes = [path.get_extents().transformed(ax.transData.inverted()) for path in p.get_vertices().get_paths()]\n",
    "radii = [max(bbox.height, bbox.width)/2 for bbox in bboxes]\n",
    "\n",
    "S_circle_pads = [plt.Circle(coords[v], radii[v]*1.5) for v in V if sol_z[v] == sol_z[s]]\n",
    "S_pts = np.asarray([pt for c in S_circle_pads for pt in c.get_patch_transform().transform(c.get_path().vertices)])\n",
    "\n",
    "centroid = np.atleast_2d(S_pts[ConvexHull(S_pts).vertices].mean(0))\n",
    "\n",
    "cross_pts = [(2/3)*coords[u, :] + (1/3)*coords[v, :] for u, v in E if sol_x[u, v] == 1]\n",
    "\n",
    "hull = ConvexHull(bndry_pts:=np.vstack((S_pts, cross_pts)))\n",
    "bndry_pts = bndry_pts[hull.vertices]\n",
    "bndry_pts = np.unique(np.vstack((bndry_pts, cross_pts)), axis=0)\n",
    "bndry_pts = bndry_pts[np.argsort(np.arctan2(*(bndry_pts - centroid).T))]\n",
    "\n",
    "tck, u = interpolate.splprep(np.tile(bndry_pts, (20,1)).T, s=0)\n",
    "out = interpolate.splev(np.linspace(0, 1, 1000), tck)\n",
    "\n",
    "plt.fill(out[0], out[1], c='green', alpha=.3, ec=None)\n",
    "\n",
    "plt.show()"
   ]
  }
 ],
 "metadata": {
  "kernelspec": {
   "display_name": "Python 3 (ipykernel)",
   "language": "python",
   "name": "python3"
  },
  "language_info": {
   "codemirror_mode": {
    "name": "ipython",
    "version": 3
   },
   "file_extension": ".py",
   "mimetype": "text/x-python",
   "name": "python",
   "nbconvert_exporter": "python",
   "pygments_lexer": "ipython3",
   "version": "3.11.8"
  }
 },
 "nbformat": 4,
 "nbformat_minor": 5
}
